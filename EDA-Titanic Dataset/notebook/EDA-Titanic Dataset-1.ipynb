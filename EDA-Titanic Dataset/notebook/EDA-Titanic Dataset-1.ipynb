{
 "cells": [
  {
   "cell_type": "markdown",
   "id": "b9235ce4",
   "metadata": {},
   "source": [
    "History: Perhaps one of the most infamous shipwrecks in history, the Titanic sank after colliding with an iceberg, killing 1502 out of 2224 people on board. Surprisingly, we can make very accurate predictions on which passengers would survive by analyzing the probability of survival based on a few attributes such as gender, age, and social status. Some groups of people were more likely to survive than others, such as women, children, and the upper-class. Therefore, we can learn about society's priorities and privileges at the time."
   ]
  },
  {
   "cell_type": "markdown",
   "id": "d58423ae",
   "metadata": {},
   "source": [
    "# Titanic survivors"
   ]
  },
  {
   "cell_type": "markdown",
   "id": "f8ea71d5",
   "metadata": {},
   "source": [
    "The Goal: Predict whether a passenger survived or not. 0 for not surviving, 1 for surviving."
   ]
  },
  {
   "cell_type": "markdown",
   "id": "acd77a0e",
   "metadata": {},
   "source": [
    "Importing libraries for analysis"
   ]
  },
  {
   "cell_type": "code",
   "execution_count": 1,
   "id": "d66ad521",
   "metadata": {},
   "outputs": [
    {
     "name": "stderr",
     "output_type": "stream",
     "text": [
      "UsageError: Line magic function `%` not found.\n"
     ]
    }
   ],
   "source": [
    "#numpy is used for numerical computations\n",
    "import numpy as np\n",
    "#pandas is used for data processing\n",
    "import pandas as pd\n",
    "#data visualization\n",
    "import matplotlib.pyplot as plt\n",
    "import seaborn as sns\n",
    "#pickle used to load data file\n",
    "import pickle\n",
    "import warnings\n",
    "warnings.filterwarnings('ignore')\n",
    "% matplotlib inline"
   ]
  },
  {
   "cell_type": "code",
   "execution_count": 2,
   "id": "0266a3f5",
   "metadata": {},
   "outputs": [],
   "source": [
    "pd.set_option('display.max_columns',None)\n",
    "pd.set_option('display.max_rows',None)"
   ]
  },
  {
   "cell_type": "markdown",
   "id": "0771b61b",
   "metadata": {},
   "source": [
    "# DATA COLLECTION"
   ]
  },
  {
   "cell_type": "markdown",
   "id": "75d11541",
   "metadata": {},
   "source": [
    "Data can be in any form."
   ]
  },
  {
   "cell_type": "markdown",
   "id": "c8308371",
   "metadata": {},
   "source": [
    "Types of data:"
   ]
  },
  {
   "cell_type": "markdown",
   "id": "31956b1d",
   "metadata": {},
   "source": [
    "-Structured data:nominal/categorical,numerical,ordinal,time-series"
   ]
  },
  {
   "cell_type": "markdown",
   "id": "40a6c78d",
   "metadata": {},
   "source": [
    "-Unstructured data"
   ]
  },
  {
   "cell_type": "markdown",
   "id": "9f2e0b36",
   "metadata": {},
   "source": [
    "# Load Dataset"
   ]
  },
  {
   "cell_type": "code",
   "execution_count": 3,
   "id": "aef0850b",
   "metadata": {},
   "outputs": [
    {
     "data": {
      "text/html": [
       "<div>\n",
       "<style scoped>\n",
       "    .dataframe tbody tr th:only-of-type {\n",
       "        vertical-align: middle;\n",
       "    }\n",
       "\n",
       "    .dataframe tbody tr th {\n",
       "        vertical-align: top;\n",
       "    }\n",
       "\n",
       "    .dataframe thead th {\n",
       "        text-align: right;\n",
       "    }\n",
       "</style>\n",
       "<table border=\"1\" class=\"dataframe\">\n",
       "  <thead>\n",
       "    <tr style=\"text-align: right;\">\n",
       "      <th></th>\n",
       "      <th>PassengerId</th>\n",
       "      <th>Survived</th>\n",
       "      <th>Pclass</th>\n",
       "      <th>Name</th>\n",
       "      <th>Sex</th>\n",
       "      <th>Age</th>\n",
       "      <th>SibSp</th>\n",
       "      <th>Parch</th>\n",
       "      <th>Ticket</th>\n",
       "      <th>Fare</th>\n",
       "      <th>Cabin</th>\n",
       "      <th>Embarked</th>\n",
       "    </tr>\n",
       "  </thead>\n",
       "  <tbody>\n",
       "    <tr>\n",
       "      <th>0</th>\n",
       "      <td>1</td>\n",
       "      <td>0</td>\n",
       "      <td>3</td>\n",
       "      <td>Braund, Mr. Owen Harris</td>\n",
       "      <td>male</td>\n",
       "      <td>22.0</td>\n",
       "      <td>1</td>\n",
       "      <td>0</td>\n",
       "      <td>A/5 21171</td>\n",
       "      <td>7.2500</td>\n",
       "      <td>NaN</td>\n",
       "      <td>S</td>\n",
       "    </tr>\n",
       "    <tr>\n",
       "      <th>1</th>\n",
       "      <td>2</td>\n",
       "      <td>1</td>\n",
       "      <td>1</td>\n",
       "      <td>Cumings, Mrs. John Bradley (Florence Briggs Th...</td>\n",
       "      <td>female</td>\n",
       "      <td>38.0</td>\n",
       "      <td>1</td>\n",
       "      <td>0</td>\n",
       "      <td>PC 17599</td>\n",
       "      <td>71.2833</td>\n",
       "      <td>C85</td>\n",
       "      <td>C</td>\n",
       "    </tr>\n",
       "    <tr>\n",
       "      <th>2</th>\n",
       "      <td>3</td>\n",
       "      <td>1</td>\n",
       "      <td>3</td>\n",
       "      <td>Heikkinen, Miss. Laina</td>\n",
       "      <td>female</td>\n",
       "      <td>26.0</td>\n",
       "      <td>0</td>\n",
       "      <td>0</td>\n",
       "      <td>STON/O2. 3101282</td>\n",
       "      <td>7.9250</td>\n",
       "      <td>NaN</td>\n",
       "      <td>S</td>\n",
       "    </tr>\n",
       "    <tr>\n",
       "      <th>3</th>\n",
       "      <td>4</td>\n",
       "      <td>1</td>\n",
       "      <td>1</td>\n",
       "      <td>Futrelle, Mrs. Jacques Heath (Lily May Peel)</td>\n",
       "      <td>female</td>\n",
       "      <td>35.0</td>\n",
       "      <td>1</td>\n",
       "      <td>0</td>\n",
       "      <td>113803</td>\n",
       "      <td>53.1000</td>\n",
       "      <td>C123</td>\n",
       "      <td>S</td>\n",
       "    </tr>\n",
       "    <tr>\n",
       "      <th>4</th>\n",
       "      <td>5</td>\n",
       "      <td>0</td>\n",
       "      <td>3</td>\n",
       "      <td>Allen, Mr. William Henry</td>\n",
       "      <td>male</td>\n",
       "      <td>35.0</td>\n",
       "      <td>0</td>\n",
       "      <td>0</td>\n",
       "      <td>373450</td>\n",
       "      <td>8.0500</td>\n",
       "      <td>NaN</td>\n",
       "      <td>S</td>\n",
       "    </tr>\n",
       "  </tbody>\n",
       "</table>\n",
       "</div>"
      ],
      "text/plain": [
       "   PassengerId  Survived  Pclass  \\\n",
       "0            1         0       3   \n",
       "1            2         1       1   \n",
       "2            3         1       3   \n",
       "3            4         1       1   \n",
       "4            5         0       3   \n",
       "\n",
       "                                                Name     Sex   Age  SibSp  \\\n",
       "0                            Braund, Mr. Owen Harris    male  22.0      1   \n",
       "1  Cumings, Mrs. John Bradley (Florence Briggs Th...  female  38.0      1   \n",
       "2                             Heikkinen, Miss. Laina  female  26.0      0   \n",
       "3       Futrelle, Mrs. Jacques Heath (Lily May Peel)  female  35.0      1   \n",
       "4                           Allen, Mr. William Henry    male  35.0      0   \n",
       "\n",
       "   Parch            Ticket     Fare Cabin Embarked  \n",
       "0      0         A/5 21171   7.2500   NaN        S  \n",
       "1      0          PC 17599  71.2833   C85        C  \n",
       "2      0  STON/O2. 3101282   7.9250   NaN        S  \n",
       "3      0            113803  53.1000  C123        S  \n",
       "4      0            373450   8.0500   NaN        S  "
      ]
     },
     "execution_count": 3,
     "metadata": {},
     "output_type": "execute_result"
    }
   ],
   "source": [
    "#loading the titanic datasets\n",
    "file_name = 'C:\\\\Users\\\\rakhi\\\\OneDrive\\\\Desktop\\\\EDA-Titanic Dataset\\\\data\\\\Titanic-Train-Data.csv'\n",
    "data_set = pd.read_csv(file_name)\n",
    "df=data_set.copy()\n",
    "df.head()"
   ]
  },
  {
   "cell_type": "markdown",
   "id": "e163bb8e",
   "metadata": {},
   "source": [
    "There are 12 Columns:"
   ]
  },
  {
   "cell_type": "markdown",
   "id": "2d3a7be3",
   "metadata": {},
   "source": [
    "PassengerId — Id of every Passenger"
   ]
  },
  {
   "cell_type": "markdown",
   "id": "bf83d3e7",
   "metadata": {},
   "source": [
    "Survived — 1 is for who survived and 0 for passenger who died"
   ]
  },
  {
   "cell_type": "markdown",
   "id": "f766dd97",
   "metadata": {},
   "source": [
    "Pclass — Socioeconomic status(1 — Upper class, 2 — Middle class, 3 — Lower class)"
   ]
  },
  {
   "cell_type": "markdown",
   "id": "e5672642",
   "metadata": {},
   "source": [
    "Name — Passenger’s name"
   ]
  },
  {
   "cell_type": "markdown",
   "id": "b7743715",
   "metadata": {},
   "source": [
    "Sex — Gender of Passenger"
   ]
  },
  {
   "cell_type": "markdown",
   "id": "101fadb7",
   "metadata": {},
   "source": [
    "Age — Age of Passenger"
   ]
  },
  {
   "cell_type": "markdown",
   "id": "3533a2e5",
   "metadata": {},
   "source": [
    "SibSp — Number of Siblings/spouse of the passenger abroad titanic"
   ]
  },
  {
   "cell_type": "markdown",
   "id": "1ea014fb",
   "metadata": {},
   "source": [
    "Parch — Number of parents/children of the passenger abroad titanic"
   ]
  },
  {
   "cell_type": "markdown",
   "id": "e8c82893",
   "metadata": {},
   "source": [
    "Ticket — Ticket number of every passenger"
   ]
  },
  {
   "cell_type": "markdown",
   "id": "32be5eeb",
   "metadata": {},
   "source": [
    "Fare — Fare spend by passenger"
   ]
  },
  {
   "cell_type": "markdown",
   "id": "4062b9e9",
   "metadata": {},
   "source": [
    "Cabin — Cabin number of passenger"
   ]
  },
  {
   "cell_type": "markdown",
   "id": "ddf8b751",
   "metadata": {},
   "source": [
    "Embarked — Port of embarkation of passenger(C — Cherbourg, Q — Queenstown, S — Southampton)"
   ]
  },
  {
   "cell_type": "code",
   "execution_count": 4,
   "id": "a78fcca7",
   "metadata": {},
   "outputs": [
    {
     "name": "stdout",
     "output_type": "stream",
     "text": [
      "shape of the data frame:  (891, 12)\n",
      "size of the data frame:  10692\n",
      "type of data frame <class 'pandas.core.frame.DataFrame'>\n"
     ]
    },
    {
     "data": {
      "text/plain": [
       "PassengerId      int64\n",
       "Survived         int64\n",
       "Pclass           int64\n",
       "Name            object\n",
       "Sex             object\n",
       "Age            float64\n",
       "SibSp            int64\n",
       "Parch            int64\n",
       "Ticket          object\n",
       "Fare           float64\n",
       "Cabin           object\n",
       "Embarked        object\n",
       "dtype: object"
      ]
     },
     "execution_count": 4,
     "metadata": {},
     "output_type": "execute_result"
    }
   ],
   "source": [
    "#shape and size of the dataset\n",
    "print('shape of the data frame: ',df.shape)\n",
    "print('size of the data frame: ',df.size)\n",
    "print('type of data frame',type(df))\n",
    "df.dtypes"
   ]
  },
  {
   "cell_type": "code",
   "execution_count": 5,
   "id": "efc8eb48",
   "metadata": {},
   "outputs": [
    {
     "data": {
      "text/html": [
       "<div>\n",
       "<style scoped>\n",
       "    .dataframe tbody tr th:only-of-type {\n",
       "        vertical-align: middle;\n",
       "    }\n",
       "\n",
       "    .dataframe tbody tr th {\n",
       "        vertical-align: top;\n",
       "    }\n",
       "\n",
       "    .dataframe thead th {\n",
       "        text-align: right;\n",
       "    }\n",
       "</style>\n",
       "<table border=\"1\" class=\"dataframe\">\n",
       "  <thead>\n",
       "    <tr style=\"text-align: right;\">\n",
       "      <th></th>\n",
       "      <th>PassengerId</th>\n",
       "      <th>Survived</th>\n",
       "      <th>Pclass</th>\n",
       "      <th>Name</th>\n",
       "      <th>Sex</th>\n",
       "      <th>Age</th>\n",
       "      <th>SibSp</th>\n",
       "      <th>Parch</th>\n",
       "      <th>Ticket</th>\n",
       "      <th>Fare</th>\n",
       "      <th>Cabin</th>\n",
       "      <th>Embarked</th>\n",
       "    </tr>\n",
       "  </thead>\n",
       "  <tbody>\n",
       "    <tr>\n",
       "      <th>379</th>\n",
       "      <td>380</td>\n",
       "      <td>0</td>\n",
       "      <td>3</td>\n",
       "      <td>Gustafsson, Mr. Karl Gideon</td>\n",
       "      <td>male</td>\n",
       "      <td>19.0</td>\n",
       "      <td>0</td>\n",
       "      <td>0</td>\n",
       "      <td>347069</td>\n",
       "      <td>7.775</td>\n",
       "      <td>NaN</td>\n",
       "      <td>S</td>\n",
       "    </tr>\n",
       "  </tbody>\n",
       "</table>\n",
       "</div>"
      ],
      "text/plain": [
       "     PassengerId  Survived  Pclass                         Name   Sex   Age  \\\n",
       "379          380         0       3  Gustafsson, Mr. Karl Gideon  male  19.0   \n",
       "\n",
       "     SibSp  Parch  Ticket   Fare Cabin Embarked  \n",
       "379      0      0  347069  7.775   NaN        S  "
      ]
     },
     "execution_count": 5,
     "metadata": {},
     "output_type": "execute_result"
    }
   ],
   "source": [
    "df.sample() #sample function takes the number of samples from the data set "
   ]
  },
  {
   "cell_type": "code",
   "execution_count": 6,
   "id": "eb3b64e2",
   "metadata": {},
   "outputs": [
    {
     "data": {
      "text/html": [
       "<div>\n",
       "<style scoped>\n",
       "    .dataframe tbody tr th:only-of-type {\n",
       "        vertical-align: middle;\n",
       "    }\n",
       "\n",
       "    .dataframe tbody tr th {\n",
       "        vertical-align: top;\n",
       "    }\n",
       "\n",
       "    .dataframe thead th {\n",
       "        text-align: right;\n",
       "    }\n",
       "</style>\n",
       "<table border=\"1\" class=\"dataframe\">\n",
       "  <thead>\n",
       "    <tr style=\"text-align: right;\">\n",
       "      <th></th>\n",
       "      <th>PassengerId</th>\n",
       "      <th>Survived</th>\n",
       "      <th>Pclass</th>\n",
       "      <th>Name</th>\n",
       "      <th>Sex</th>\n",
       "      <th>Age</th>\n",
       "      <th>SibSp</th>\n",
       "      <th>Parch</th>\n",
       "      <th>Ticket</th>\n",
       "      <th>Fare</th>\n",
       "      <th>Cabin</th>\n",
       "      <th>Embarked</th>\n",
       "    </tr>\n",
       "  </thead>\n",
       "  <tbody>\n",
       "    <tr>\n",
       "      <th>count</th>\n",
       "      <td>891.000000</td>\n",
       "      <td>891.000000</td>\n",
       "      <td>891.000000</td>\n",
       "      <td>891</td>\n",
       "      <td>891</td>\n",
       "      <td>714.000000</td>\n",
       "      <td>891.000000</td>\n",
       "      <td>891.000000</td>\n",
       "      <td>891</td>\n",
       "      <td>891.000000</td>\n",
       "      <td>204</td>\n",
       "      <td>889</td>\n",
       "    </tr>\n",
       "    <tr>\n",
       "      <th>unique</th>\n",
       "      <td>NaN</td>\n",
       "      <td>NaN</td>\n",
       "      <td>NaN</td>\n",
       "      <td>891</td>\n",
       "      <td>2</td>\n",
       "      <td>NaN</td>\n",
       "      <td>NaN</td>\n",
       "      <td>NaN</td>\n",
       "      <td>681</td>\n",
       "      <td>NaN</td>\n",
       "      <td>147</td>\n",
       "      <td>3</td>\n",
       "    </tr>\n",
       "    <tr>\n",
       "      <th>top</th>\n",
       "      <td>NaN</td>\n",
       "      <td>NaN</td>\n",
       "      <td>NaN</td>\n",
       "      <td>Braund, Mr. Owen Harris</td>\n",
       "      <td>male</td>\n",
       "      <td>NaN</td>\n",
       "      <td>NaN</td>\n",
       "      <td>NaN</td>\n",
       "      <td>347082</td>\n",
       "      <td>NaN</td>\n",
       "      <td>B96 B98</td>\n",
       "      <td>S</td>\n",
       "    </tr>\n",
       "    <tr>\n",
       "      <th>freq</th>\n",
       "      <td>NaN</td>\n",
       "      <td>NaN</td>\n",
       "      <td>NaN</td>\n",
       "      <td>1</td>\n",
       "      <td>577</td>\n",
       "      <td>NaN</td>\n",
       "      <td>NaN</td>\n",
       "      <td>NaN</td>\n",
       "      <td>7</td>\n",
       "      <td>NaN</td>\n",
       "      <td>4</td>\n",
       "      <td>644</td>\n",
       "    </tr>\n",
       "    <tr>\n",
       "      <th>mean</th>\n",
       "      <td>446.000000</td>\n",
       "      <td>0.383838</td>\n",
       "      <td>2.308642</td>\n",
       "      <td>NaN</td>\n",
       "      <td>NaN</td>\n",
       "      <td>29.699118</td>\n",
       "      <td>0.523008</td>\n",
       "      <td>0.381594</td>\n",
       "      <td>NaN</td>\n",
       "      <td>32.204208</td>\n",
       "      <td>NaN</td>\n",
       "      <td>NaN</td>\n",
       "    </tr>\n",
       "    <tr>\n",
       "      <th>std</th>\n",
       "      <td>257.353842</td>\n",
       "      <td>0.486592</td>\n",
       "      <td>0.836071</td>\n",
       "      <td>NaN</td>\n",
       "      <td>NaN</td>\n",
       "      <td>14.526497</td>\n",
       "      <td>1.102743</td>\n",
       "      <td>0.806057</td>\n",
       "      <td>NaN</td>\n",
       "      <td>49.693429</td>\n",
       "      <td>NaN</td>\n",
       "      <td>NaN</td>\n",
       "    </tr>\n",
       "    <tr>\n",
       "      <th>min</th>\n",
       "      <td>1.000000</td>\n",
       "      <td>0.000000</td>\n",
       "      <td>1.000000</td>\n",
       "      <td>NaN</td>\n",
       "      <td>NaN</td>\n",
       "      <td>0.420000</td>\n",
       "      <td>0.000000</td>\n",
       "      <td>0.000000</td>\n",
       "      <td>NaN</td>\n",
       "      <td>0.000000</td>\n",
       "      <td>NaN</td>\n",
       "      <td>NaN</td>\n",
       "    </tr>\n",
       "    <tr>\n",
       "      <th>25%</th>\n",
       "      <td>223.500000</td>\n",
       "      <td>0.000000</td>\n",
       "      <td>2.000000</td>\n",
       "      <td>NaN</td>\n",
       "      <td>NaN</td>\n",
       "      <td>20.125000</td>\n",
       "      <td>0.000000</td>\n",
       "      <td>0.000000</td>\n",
       "      <td>NaN</td>\n",
       "      <td>7.910400</td>\n",
       "      <td>NaN</td>\n",
       "      <td>NaN</td>\n",
       "    </tr>\n",
       "    <tr>\n",
       "      <th>50%</th>\n",
       "      <td>446.000000</td>\n",
       "      <td>0.000000</td>\n",
       "      <td>3.000000</td>\n",
       "      <td>NaN</td>\n",
       "      <td>NaN</td>\n",
       "      <td>28.000000</td>\n",
       "      <td>0.000000</td>\n",
       "      <td>0.000000</td>\n",
       "      <td>NaN</td>\n",
       "      <td>14.454200</td>\n",
       "      <td>NaN</td>\n",
       "      <td>NaN</td>\n",
       "    </tr>\n",
       "    <tr>\n",
       "      <th>75%</th>\n",
       "      <td>668.500000</td>\n",
       "      <td>1.000000</td>\n",
       "      <td>3.000000</td>\n",
       "      <td>NaN</td>\n",
       "      <td>NaN</td>\n",
       "      <td>38.000000</td>\n",
       "      <td>1.000000</td>\n",
       "      <td>0.000000</td>\n",
       "      <td>NaN</td>\n",
       "      <td>31.000000</td>\n",
       "      <td>NaN</td>\n",
       "      <td>NaN</td>\n",
       "    </tr>\n",
       "    <tr>\n",
       "      <th>max</th>\n",
       "      <td>891.000000</td>\n",
       "      <td>1.000000</td>\n",
       "      <td>3.000000</td>\n",
       "      <td>NaN</td>\n",
       "      <td>NaN</td>\n",
       "      <td>80.000000</td>\n",
       "      <td>8.000000</td>\n",
       "      <td>6.000000</td>\n",
       "      <td>NaN</td>\n",
       "      <td>512.329200</td>\n",
       "      <td>NaN</td>\n",
       "      <td>NaN</td>\n",
       "    </tr>\n",
       "  </tbody>\n",
       "</table>\n",
       "</div>"
      ],
      "text/plain": [
       "        PassengerId    Survived      Pclass                     Name   Sex  \\\n",
       "count    891.000000  891.000000  891.000000                      891   891   \n",
       "unique          NaN         NaN         NaN                      891     2   \n",
       "top             NaN         NaN         NaN  Braund, Mr. Owen Harris  male   \n",
       "freq            NaN         NaN         NaN                        1   577   \n",
       "mean     446.000000    0.383838    2.308642                      NaN   NaN   \n",
       "std      257.353842    0.486592    0.836071                      NaN   NaN   \n",
       "min        1.000000    0.000000    1.000000                      NaN   NaN   \n",
       "25%      223.500000    0.000000    2.000000                      NaN   NaN   \n",
       "50%      446.000000    0.000000    3.000000                      NaN   NaN   \n",
       "75%      668.500000    1.000000    3.000000                      NaN   NaN   \n",
       "max      891.000000    1.000000    3.000000                      NaN   NaN   \n",
       "\n",
       "               Age       SibSp       Parch  Ticket        Fare    Cabin  \\\n",
       "count   714.000000  891.000000  891.000000     891  891.000000      204   \n",
       "unique         NaN         NaN         NaN     681         NaN      147   \n",
       "top            NaN         NaN         NaN  347082         NaN  B96 B98   \n",
       "freq           NaN         NaN         NaN       7         NaN        4   \n",
       "mean     29.699118    0.523008    0.381594     NaN   32.204208      NaN   \n",
       "std      14.526497    1.102743    0.806057     NaN   49.693429      NaN   \n",
       "min       0.420000    0.000000    0.000000     NaN    0.000000      NaN   \n",
       "25%      20.125000    0.000000    0.000000     NaN    7.910400      NaN   \n",
       "50%      28.000000    0.000000    0.000000     NaN   14.454200      NaN   \n",
       "75%      38.000000    1.000000    0.000000     NaN   31.000000      NaN   \n",
       "max      80.000000    8.000000    6.000000     NaN  512.329200      NaN   \n",
       "\n",
       "       Embarked  \n",
       "count       889  \n",
       "unique        3  \n",
       "top           S  \n",
       "freq        644  \n",
       "mean        NaN  \n",
       "std         NaN  \n",
       "min         NaN  \n",
       "25%         NaN  \n",
       "50%         NaN  \n",
       "75%         NaN  \n",
       "max         NaN  "
      ]
     },
     "execution_count": 6,
     "metadata": {},
     "output_type": "execute_result"
    }
   ],
   "source": [
    "#describe function gives the statstical information of the data frame\n",
    "df.describe(include='all')"
   ]
  },
  {
   "cell_type": "code",
   "execution_count": 7,
   "id": "c5738851",
   "metadata": {},
   "outputs": [
    {
     "name": "stdout",
     "output_type": "stream",
     "text": [
      "<class 'pandas.core.frame.DataFrame'>\n",
      "RangeIndex: 891 entries, 0 to 890\n",
      "Data columns (total 12 columns):\n",
      " #   Column       Non-Null Count  Dtype  \n",
      "---  ------       --------------  -----  \n",
      " 0   PassengerId  891 non-null    int64  \n",
      " 1   Survived     891 non-null    int64  \n",
      " 2   Pclass       891 non-null    int64  \n",
      " 3   Name         891 non-null    object \n",
      " 4   Sex          891 non-null    object \n",
      " 5   Age          714 non-null    float64\n",
      " 6   SibSp        891 non-null    int64  \n",
      " 7   Parch        891 non-null    int64  \n",
      " 8   Ticket       891 non-null    object \n",
      " 9   Fare         891 non-null    float64\n",
      " 10  Cabin        204 non-null    object \n",
      " 11  Embarked     889 non-null    object \n",
      "dtypes: float64(2), int64(5), object(5)\n",
      "memory usage: 83.7+ KB\n"
     ]
    }
   ],
   "source": [
    "#info function gives the information of the non null data \n",
    "df.info()"
   ]
  },
  {
   "cell_type": "code",
   "execution_count": 8,
   "id": "380ae15f",
   "metadata": {},
   "outputs": [
    {
     "data": {
      "text/plain": [
       "['PassengerId', 'Survived', 'Pclass', 'Age', 'SibSp', 'Parch', 'Fare']"
      ]
     },
     "execution_count": 8,
     "metadata": {},
     "output_type": "execute_result"
    }
   ],
   "source": [
    "#numerical variables in our datasets\n",
    "num_var = [i for i in df.columns if df[i].dtypes!='O']\n",
    "num_var\n",
    "# for i in range(len(num_var)):\n",
    "#     sns.histplot(num_var[i])\n",
    "#     plt.show()"
   ]
  },
  {
   "cell_type": "code",
   "execution_count": 9,
   "id": "d9ec4d68",
   "metadata": {},
   "outputs": [
    {
     "name": "stdout",
     "output_type": "stream",
     "text": [
      "Name\n",
      "Sex\n",
      "Ticket\n",
      "Cabin\n",
      "Embarked\n"
     ]
    }
   ],
   "source": [
    "#categorical variables in our datasets\n",
    "for c in df.columns:\n",
    "    if df[c].dtypes=='O':\n",
    "        print(c)"
   ]
  },
  {
   "cell_type": "markdown",
   "id": "7a3eef15",
   "metadata": {},
   "source": [
    "# DATA PREPROCESSING"
   ]
  },
  {
   "cell_type": "markdown",
   "id": "f34edc41",
   "metadata": {},
   "source": [
    "Data Preparation steps:"
   ]
  },
  {
   "cell_type": "markdown",
   "id": "05c470d2",
   "metadata": {},
   "source": [
    "-Renaming the columns"
   ]
  },
  {
   "cell_type": "markdown",
   "id": "727d2e55",
   "metadata": {},
   "source": [
    "-Univariate analysis"
   ]
  },
  {
   "cell_type": "markdown",
   "id": "7ae29093",
   "metadata": {},
   "source": [
    "-Finding data types of columns"
   ]
  },
  {
   "cell_type": "markdown",
   "id": "5ea018b9",
   "metadata": {},
   "source": [
    "-Missing values treatment"
   ]
  },
  {
   "cell_type": "markdown",
   "id": "df570104",
   "metadata": {},
   "source": [
    "-dropping the duplicate rows"
   ]
  },
  {
   "cell_type": "markdown",
   "id": "19372aff",
   "metadata": {},
   "source": [
    "-bivariate analysis\n",
    "\n",
    "-dropping irrelevant columns"
   ]
  },
  {
   "cell_type": "markdown",
   "id": "a0854e9e",
   "metadata": {},
   "source": [
    "-variable transformation\n",
    "\n",
    "-dropping the missing or null values\n",
    "\n",
    "-multivariate analysis\n",
    "\n",
    "-detecting outliers\n",
    "\n",
    "-feature creation"
   ]
  },
  {
   "cell_type": "markdown",
   "id": "65006f03",
   "metadata": {},
   "source": [
    "# Handling Missing Values"
   ]
  },
  {
   "cell_type": "code",
   "execution_count": 10,
   "id": "21bd37e4",
   "metadata": {},
   "outputs": [
    {
     "data": {
      "text/plain": [
       "PassengerId    0.000000\n",
       "Survived       0.000000\n",
       "Pclass         0.000000\n",
       "Name           0.000000\n",
       "Sex            0.000000\n",
       "Age            0.198653\n",
       "SibSp          0.000000\n",
       "Parch          0.000000\n",
       "Ticket         0.000000\n",
       "Fare           0.000000\n",
       "Cabin          0.771044\n",
       "Embarked       0.002245\n",
       "dtype: float64"
      ]
     },
     "execution_count": 10,
     "metadata": {},
     "output_type": "execute_result"
    }
   ],
   "source": [
    "#isnull function checks the null values in the data set\n",
    "df.isnull().mean()  #sum()"
   ]
  },
  {
   "cell_type": "code",
   "execution_count": 11,
   "id": "cbad1dcd",
   "metadata": {},
   "outputs": [
    {
     "data": {
      "text/plain": [
       "PassengerId      0\n",
       "Survived         0\n",
       "Pclass           0\n",
       "Name             0\n",
       "Sex              0\n",
       "Age            177\n",
       "SibSp            0\n",
       "Parch            0\n",
       "Ticket           0\n",
       "Fare             0\n",
       "Cabin          687\n",
       "Embarked         2\n",
       "dtype: int64"
      ]
     },
     "execution_count": 11,
     "metadata": {},
     "output_type": "execute_result"
    }
   ],
   "source": [
    "df.isnull().sum()"
   ]
  },
  {
   "cell_type": "code",
   "execution_count": 12,
   "id": "f01a8127",
   "metadata": {},
   "outputs": [
    {
     "data": {
      "text/plain": [
       "<AxesSubplot:>"
      ]
     },
     "execution_count": 12,
     "metadata": {},
     "output_type": "execute_result"
    },
    {
     "data": {
      "image/png": "[encoded data removed]",
      "text/plain": [
       "<Figure size 1080x360 with 1 Axes>"
      ]
     },
     "metadata": {
      "needs_background": "light"
     },
     "output_type": "display_data"
    }
   ],
   "source": [
    "#finding the null values using heat map\n",
    "plt.figure(figsize=(15,5))\n",
    "sns.heatmap(df.isnull(), yticklabels=False, cbar=False, cmap='viridis')"
   ]
  },
  {
   "cell_type": "code",
   "execution_count": 13,
   "id": "88192595",
   "metadata": {},
   "outputs": [
    {
     "data": {
      "text/plain": [
       "<AxesSubplot:>"
      ]
     },
     "execution_count": 13,
     "metadata": {},
     "output_type": "execute_result"
    },
    {
     "data": {
      "image/png": "[encoded data removed]",
      "text/plain": [
       "<Figure size 1080x360 with 2 Axes>"
      ]
     },
     "metadata": {
      "needs_background": "light"
     },
     "output_type": "display_data"
    }
   ],
   "source": [
    "#heatmap helps us to know the relationship between the variables\n",
    "plt.figure(figsize=(15,5))\n",
    "sns.set(rc={'figure.facecolor':'lightgreen'})#axes.facecolor\n",
    "sns.heatmap(df.corr(), annot=True)"
   ]
  },
  {
   "cell_type": "markdown",
   "id": "5e662832",
   "metadata": {},
   "source": [
    "Here we can see that Parch and SibSp has a higher correlation, which generally makes sense since Parents are more likely to travel with their multiple kids and spouses tend to travel together.\n",
    "\n",
    "Passenger class has a lower relationship with the target variable.\n",
    "\n",
    "from heatmap, can see the relationship between the variables"
   ]
  },
  {
   "cell_type": "code",
   "execution_count": 14,
   "id": "5c746893",
   "metadata": {},
   "outputs": [
    {
     "data": {
      "text/html": [
       "<div>\n",
       "<style scoped>\n",
       "    .dataframe tbody tr th:only-of-type {\n",
       "        vertical-align: middle;\n",
       "    }\n",
       "\n",
       "    .dataframe tbody tr th {\n",
       "        vertical-align: top;\n",
       "    }\n",
       "\n",
       "    .dataframe thead th {\n",
       "        text-align: right;\n",
       "    }\n",
       "</style>\n",
       "<table border=\"1\" class=\"dataframe\">\n",
       "  <thead>\n",
       "    <tr style=\"text-align: right;\">\n",
       "      <th></th>\n",
       "      <th>PassengerId</th>\n",
       "      <th>Survived</th>\n",
       "      <th>Pclass</th>\n",
       "      <th>Age</th>\n",
       "      <th>SibSp</th>\n",
       "      <th>Parch</th>\n",
       "      <th>Fare</th>\n",
       "    </tr>\n",
       "  </thead>\n",
       "  <tbody>\n",
       "    <tr>\n",
       "      <th>PassengerId</th>\n",
       "      <td>1.000000</td>\n",
       "      <td>-0.005007</td>\n",
       "      <td>-0.035144</td>\n",
       "      <td>0.036847</td>\n",
       "      <td>-0.057527</td>\n",
       "      <td>-0.001652</td>\n",
       "      <td>0.012658</td>\n",
       "    </tr>\n",
       "    <tr>\n",
       "      <th>Survived</th>\n",
       "      <td>-0.005007</td>\n",
       "      <td>1.000000</td>\n",
       "      <td>-0.338481</td>\n",
       "      <td>-0.077221</td>\n",
       "      <td>-0.035322</td>\n",
       "      <td>0.081629</td>\n",
       "      <td>0.257307</td>\n",
       "    </tr>\n",
       "    <tr>\n",
       "      <th>Pclass</th>\n",
       "      <td>-0.035144</td>\n",
       "      <td>-0.338481</td>\n",
       "      <td>1.000000</td>\n",
       "      <td>-0.369226</td>\n",
       "      <td>0.083081</td>\n",
       "      <td>0.018443</td>\n",
       "      <td>-0.549500</td>\n",
       "    </tr>\n",
       "    <tr>\n",
       "      <th>Age</th>\n",
       "      <td>0.036847</td>\n",
       "      <td>-0.077221</td>\n",
       "      <td>-0.369226</td>\n",
       "      <td>1.000000</td>\n",
       "      <td>-0.308247</td>\n",
       "      <td>-0.189119</td>\n",
       "      <td>0.096067</td>\n",
       "    </tr>\n",
       "    <tr>\n",
       "      <th>SibSp</th>\n",
       "      <td>-0.057527</td>\n",
       "      <td>-0.035322</td>\n",
       "      <td>0.083081</td>\n",
       "      <td>-0.308247</td>\n",
       "      <td>1.000000</td>\n",
       "      <td>0.414838</td>\n",
       "      <td>0.159651</td>\n",
       "    </tr>\n",
       "    <tr>\n",
       "      <th>Parch</th>\n",
       "      <td>-0.001652</td>\n",
       "      <td>0.081629</td>\n",
       "      <td>0.018443</td>\n",
       "      <td>-0.189119</td>\n",
       "      <td>0.414838</td>\n",
       "      <td>1.000000</td>\n",
       "      <td>0.216225</td>\n",
       "    </tr>\n",
       "    <tr>\n",
       "      <th>Fare</th>\n",
       "      <td>0.012658</td>\n",
       "      <td>0.257307</td>\n",
       "      <td>-0.549500</td>\n",
       "      <td>0.096067</td>\n",
       "      <td>0.159651</td>\n",
       "      <td>0.216225</td>\n",
       "      <td>1.000000</td>\n",
       "    </tr>\n",
       "  </tbody>\n",
       "</table>\n",
       "</div>"
      ],
      "text/plain": [
       "             PassengerId  Survived    Pclass       Age     SibSp     Parch  \\\n",
       "PassengerId     1.000000 -0.005007 -0.035144  0.036847 -0.057527 -0.001652   \n",
       "Survived       -0.005007  1.000000 -0.338481 -0.077221 -0.035322  0.081629   \n",
       "Pclass         -0.035144 -0.338481  1.000000 -0.369226  0.083081  0.018443   \n",
       "Age             0.036847 -0.077221 -0.369226  1.000000 -0.308247 -0.189119   \n",
       "SibSp          -0.057527 -0.035322  0.083081 -0.308247  1.000000  0.414838   \n",
       "Parch          -0.001652  0.081629  0.018443 -0.189119  0.414838  1.000000   \n",
       "Fare            0.012658  0.257307 -0.549500  0.096067  0.159651  0.216225   \n",
       "\n",
       "                 Fare  \n",
       "PassengerId  0.012658  \n",
       "Survived     0.257307  \n",
       "Pclass      -0.549500  \n",
       "Age          0.096067  \n",
       "SibSp        0.159651  \n",
       "Parch        0.216225  \n",
       "Fare         1.000000  "
      ]
     },
     "execution_count": 14,
     "metadata": {},
     "output_type": "execute_result"
    }
   ],
   "source": [
    "df.corr(method='pearson')#checks the relationships"
   ]
  },
  {
   "cell_type": "code",
   "execution_count": 15,
   "id": "fb04c573",
   "metadata": {},
   "outputs": [
    {
     "data": {
      "text/html": [
       "<div>\n",
       "<style scoped>\n",
       "    .dataframe tbody tr th:only-of-type {\n",
       "        vertical-align: middle;\n",
       "    }\n",
       "\n",
       "    .dataframe tbody tr th {\n",
       "        vertical-align: top;\n",
       "    }\n",
       "\n",
       "    .dataframe thead th {\n",
       "        text-align: right;\n",
       "    }\n",
       "</style>\n",
       "<table border=\"1\" class=\"dataframe\">\n",
       "  <thead>\n",
       "    <tr style=\"text-align: right;\">\n",
       "      <th></th>\n",
       "      <th>Age</th>\n",
       "      <th>Fare</th>\n",
       "      <th>Parch</th>\n",
       "      <th>SibSp</th>\n",
       "    </tr>\n",
       "    <tr>\n",
       "      <th>Survived</th>\n",
       "      <th></th>\n",
       "      <th></th>\n",
       "      <th></th>\n",
       "      <th></th>\n",
       "    </tr>\n",
       "  </thead>\n",
       "  <tbody>\n",
       "    <tr>\n",
       "      <th>0</th>\n",
       "      <td>30.626179</td>\n",
       "      <td>22.117887</td>\n",
       "      <td>0.329690</td>\n",
       "      <td>0.553734</td>\n",
       "    </tr>\n",
       "    <tr>\n",
       "      <th>1</th>\n",
       "      <td>28.343690</td>\n",
       "      <td>48.395408</td>\n",
       "      <td>0.464912</td>\n",
       "      <td>0.473684</td>\n",
       "    </tr>\n",
       "  </tbody>\n",
       "</table>\n",
       "</div>"
      ],
      "text/plain": [
       "                Age       Fare     Parch     SibSp\n",
       "Survived                                          \n",
       "0         30.626179  22.117887  0.329690  0.553734\n",
       "1         28.343690  48.395408  0.464912  0.473684"
      ]
     },
     "execution_count": 15,
     "metadata": {},
     "output_type": "execute_result"
    }
   ],
   "source": [
    "#compare survival rates across the numeric variables\n",
    "pd.pivot_table(df, index = 'Survived', values = ['Age','SibSp','Parch','Fare'])"
   ]
  },
  {
   "cell_type": "markdown",
   "id": "cef8de9b",
   "metadata": {},
   "source": [
    "The average age of survivors is 28, so young people tend to survive more.\n",
    "\n",
    "People who paid higher fare rates were more likely to survive, more than double.\n",
    "\n",
    "If you have parents, you had a higher chance of surviving.\n",
    "\n",
    "if you are a child, and have siblings, you have less of a chance of surviving"
   ]
  },
  {
   "cell_type": "code",
   "execution_count": 16,
   "id": "80d5bcd1",
   "metadata": {},
   "outputs": [
    {
     "data": {
      "text/plain": [
       "0    549\n",
       "1    342\n",
       "Name: Survived, dtype: int64"
      ]
     },
     "execution_count": 16,
     "metadata": {},
     "output_type": "execute_result"
    }
   ],
   "source": [
    "#analysis of the target variable\n",
    "df.Survived.value_counts()"
   ]
  },
  {
   "cell_type": "code",
   "execution_count": 17,
   "id": "b3be9e31",
   "metadata": {},
   "outputs": [
    {
     "data": {
      "text/plain": [
       "count    891.000000\n",
       "mean       0.383838\n",
       "std        0.486592\n",
       "min        0.000000\n",
       "25%        0.000000\n",
       "50%        0.000000\n",
       "75%        1.000000\n",
       "max        1.000000\n",
       "Name: Survived, dtype: float64"
      ]
     },
     "execution_count": 17,
     "metadata": {},
     "output_type": "execute_result"
    }
   ],
   "source": [
    "df.Survived.describe()"
   ]
  },
  {
   "cell_type": "code",
   "execution_count": 18,
   "id": "ca2b7f55",
   "metadata": {},
   "outputs": [
    {
     "data": {
      "text/plain": [
       "<AxesSubplot:xlabel='Survived', ylabel='Density'>"
      ]
     },
     "execution_count": 18,
     "metadata": {},
     "output_type": "execute_result"
    },
    {
     "data": {
      "image/png": "[encoded data removed]",
      "text/plain": [
       "<Figure size 1080x360 with 1 Axes>"
      ]
     },
     "metadata": {},
     "output_type": "display_data"
    }
   ],
   "source": [
    "f=plt.figure(figsize=(15,5))\n",
    "sns.set(rc={'figure.facecolor':'lightpink'})\n",
    "sns.distplot(df['Survived'])"
   ]
  },
  {
   "cell_type": "markdown",
   "id": "9da2a568",
   "metadata": {},
   "source": [
    "Survived: Most of the people died in the shipwreck, only around 200 people survived."
   ]
  },
  {
   "cell_type": "code",
   "execution_count": 19,
   "id": "1c5f8ea7",
   "metadata": {},
   "outputs": [
    {
     "data": {
      "text/plain": [
       "<AxesSubplot:xlabel='Pclass', ylabel='Count'>"
      ]
     },
     "execution_count": 19,
     "metadata": {},
     "output_type": "execute_result"
    },
    {
     "data": {
      "image/png": "[encoded data removed]",
      "text/plain": [
       "<Figure size 1080x360 with 1 Axes>"
      ]
     },
     "metadata": {},
     "output_type": "display_data"
    }
   ],
   "source": [
    "plt.figure(figsize=(15,5))\n",
    "sns.histplot(df['Pclass'])"
   ]
  },
  {
   "cell_type": "markdown",
   "id": "f99ff6a9",
   "metadata": {},
   "source": [
    "Pclass: The majority of the people traveling, had tickets to the 3rd class."
   ]
  },
  {
   "cell_type": "code",
   "execution_count": 20,
   "id": "9725e00c",
   "metadata": {},
   "outputs": [
    {
     "data": {
      "text/plain": [
       "<AxesSubplot:xlabel='Sex', ylabel='Count'>"
      ]
     },
     "execution_count": 20,
     "metadata": {},
     "output_type": "execute_result"
    },
    {
     "data": {
      "image/png": "[encoded data removed]",
      "text/plain": [
       "<Figure size 1080x360 with 1 Axes>"
      ]
     },
     "metadata": {},
     "output_type": "display_data"
    }
   ],
   "source": [
    "plt.figure(figsize=(15,5))\n",
    "sns.histplot(df['Sex'])"
   ]
  },
  {
   "cell_type": "markdown",
   "id": "13c61373",
   "metadata": {},
   "source": [
    "Sex: There were more males than females aboard the ship, roughly double the amount."
   ]
  },
  {
   "cell_type": "code",
   "execution_count": 21,
   "id": "e66b4a76",
   "metadata": {},
   "outputs": [
    {
     "data": {
      "text/plain": [
       "<AxesSubplot:xlabel='Embarked', ylabel='Count'>"
      ]
     },
     "execution_count": 21,
     "metadata": {},
     "output_type": "execute_result"
    },
    {
     "data": {
      "image/png": "[encoded data removed]",
      "text/plain": [
       "<Figure size 1080x360 with 1 Axes>"
      ]
     },
     "metadata": {},
     "output_type": "display_data"
    }
   ],
   "source": [
    "plt.figure(figsize=(15,5))\n",
    "sns.histplot(data=df['Embarked'])"
   ]
  },
  {
   "cell_type": "markdown",
   "id": "89671c0b",
   "metadata": {},
   "source": [
    "Embarked: Most of the passengers boarded the ship from Southampton."
   ]
  },
  {
   "cell_type": "code",
   "execution_count": 22,
   "id": "5743f224",
   "metadata": {},
   "outputs": [
    {
     "data": {
      "text/plain": [
       "<AxesSubplot:xlabel='Cabin', ylabel='Count'>"
      ]
     },
     "execution_count": 22,
     "metadata": {},
     "output_type": "execute_result"
    },
    {
     "data": {
      "image/png": "[encoded data removed]",
      "text/plain": [
       "<Figure size 1080x360 with 1 Axes>"
      ]
     },
     "metadata": {},
     "output_type": "display_data"
    }
   ],
   "source": [
    "plt.figure(figsize=(15,5))\n",
    "sns.histplot(df['Cabin'].value_counts())"
   ]
  },
  {
   "cell_type": "code",
   "execution_count": 23,
   "id": "3d4b3596",
   "metadata": {},
   "outputs": [
    {
     "data": {
      "text/plain": [
       "<AxesSubplot:xlabel='Cabin', ylabel='Count'>"
      ]
     },
     "execution_count": 23,
     "metadata": {},
     "output_type": "execute_result"
    },
    {
     "data": {
      "image/png": "[encoded data removed]",
      "text/plain": [
       "<Figure size 1080x360 with 1 Axes>"
      ]
     },
     "metadata": {},
     "output_type": "display_data"
    }
   ],
   "source": [
    "plt.figure(figsize=(15,5))\n",
    "sns.histplot(df['Cabin'])"
   ]
  },
  {
   "cell_type": "code",
   "execution_count": 24,
   "id": "72905f99",
   "metadata": {},
   "outputs": [
    {
     "name": "stdout",
     "output_type": "stream",
     "text": [
      "Pclass      1   2    3\n",
      "Survived              \n",
      "0          80  97  372\n",
      "1         136  87  119\n",
      "----------------\n",
      "Sex       female  male\n",
      "Survived              \n",
      "0             81   468\n",
      "1            233   109\n",
      "----------------\n",
      "Embarked   C   Q    S\n",
      "Survived             \n",
      "0         75  47  427\n",
      "1         93  30  217\n"
     ]
    }
   ],
   "source": [
    "print(pd.pivot_table(df, index = 'Survived', columns = 'Pclass',values = 'Ticket' ,aggfunc ='count'))\n",
    "print('----------------')\n",
    "print(pd.pivot_table(df, index = 'Survived', columns = 'Sex', values = 'Ticket' ,aggfunc ='count'))\n",
    "print('----------------')\n",
    "print(pd.pivot_table(df, index = 'Survived', columns = 'Embarked', values = 'Ticket' ,aggfunc ='count'))"
   ]
  },
  {
   "cell_type": "markdown",
   "id": "1eb77f0b",
   "metadata": {},
   "source": [
    "Pclass: more people survived from the First class than the Second or the Third class, even though the total number of passengers in the First class was much much less than the Third class. Thus our previous assumption that the rich survived is confirmed here, which might be relevant to model building.\n",
    "\n",
    "Sex: Most of the women survived, and the majority of the male died in the shipwreck.\n",
    "\n",
    "Embarked: This doesn’t seem much relevant, maybe if someone was from “Cherbourg” had a higher chance of surviving."
   ]
  },
  {
   "cell_type": "code",
   "execution_count": 25,
   "id": "8e320552",
   "metadata": {},
   "outputs": [
    {
     "data": {
      "text/plain": [
       "<AxesSubplot:>"
      ]
     },
     "execution_count": 25,
     "metadata": {},
     "output_type": "execute_result"
    },
    {
     "data": {
      "image/png": "[encoded data removed]",
      "text/plain": [
       "<Figure size 1080x360 with 1 Axes>"
      ]
     },
     "metadata": {},
     "output_type": "display_data"
    }
   ],
   "source": [
    "#checking the outliers in the dataset\n",
    "plt.figure(figsize=(15,5))\n",
    "sns.boxplot(data=df)"
   ]
  },
  {
   "cell_type": "code",
   "execution_count": 27,
   "id": "09aa7a7e",
   "metadata": {},
   "outputs": [
    {
     "name": "stdout",
     "output_type": "stream",
     "text": [
      "upper limit\n",
      " PassengerId      0\n",
      "Survived         0\n",
      "Pclass           0\n",
      "Name             0\n",
      "Sex              0\n",
      "Age             11\n",
      "SibSp           46\n",
      "Parch          213\n",
      "Ticket           0\n",
      "Fare           116\n",
      "Cabin            0\n",
      "Embarked         0\n",
      "dtype: int64\n",
      "\n",
      "lower limit\n",
      " PassengerId      0\n",
      "Survived       891\n",
      "Pclass         891\n",
      "Name             0\n",
      "Sex              0\n",
      "Age            616\n",
      "SibSp          817\n",
      "Parch            0\n",
      "Ticket           0\n",
      "Fare           720\n",
      "Cabin            0\n",
      "Embarked         0\n",
      "dtype: int64\n"
     ]
    }
   ],
   "source": [
    "#detecting the outliers\n",
    "q1=df[['Survived', 'Pclass', 'Age', 'SibSp', 'Parch', 'Fare']].quantile(0.25)\n",
    "q3=df[['Survived', 'Pclass', 'Age', 'SibSp', 'Parch', 'Fare']].quantile(0.75)\n",
    "iqr=q3-q1 # difference between maximum and minimum\n",
    "\n",
    "upper_limit=q3+1.5*iqr\n",
    "lower_limit=q1+1.5*iqr\n",
    "\n",
    "print('upper limit\\n',df[df[['Survived', 'Pclass', 'Age', 'SibSp', 'Parch', 'Fare']]>upper_limit].count())\n",
    "print()\n",
    "print('lower limit\\n',df[df[['Survived', 'Pclass', 'Age', 'SibSp', 'Parch', 'Fare']]<lower_limit].count())"
   ]
  },
  {
   "cell_type": "code",
   "execution_count": 28,
   "id": "1f707056",
   "metadata": {},
   "outputs": [
    {
     "data": {
      "text/plain": [
       "0             A/5\n",
       "1              PC\n",
       "2        STON/O2.\n",
       "3          113803\n",
       "4          373450\n",
       "5          330877\n",
       "6           17463\n",
       "7          349909\n",
       "8          347742\n",
       "9          237736\n",
       "10             PP\n",
       "11         113783\n",
       "12           A/5.\n",
       "13         347082\n",
       "14         350406\n",
       "15         248706\n",
       "16         382652\n",
       "17         244373\n",
       "18         345763\n",
       "19           2649\n",
       "20         239865\n",
       "21         248698\n",
       "22         330923\n",
       "23         113788\n",
       "24         349909\n",
       "25         347077\n",
       "26           2631\n",
       "27          19950\n",
       "28         330959\n",
       "29         349216\n",
       "30             PC\n",
       "31             PC\n",
       "32         335677\n",
       "33           C.A.\n",
       "34             PC\n",
       "35         113789\n",
       "36           2677\n",
       "37          A./5.\n",
       "38         345764\n",
       "39           2651\n",
       "40           7546\n",
       "41          11668\n",
       "42         349253\n",
       "43       SC/Paris\n",
       "44         330958\n",
       "45      S.C./A.4.\n",
       "46         370371\n",
       "47          14311\n",
       "48           2662\n",
       "49         349237\n",
       "50        3101295\n",
       "51           A/4.\n",
       "52             PC\n",
       "53           2926\n",
       "54         113509\n",
       "55          19947\n",
       "56           C.A.\n",
       "57           2697\n",
       "58           C.A.\n",
       "59             CA\n",
       "60           2669\n",
       "61         113572\n",
       "62          36973\n",
       "63         347088\n",
       "64             PC\n",
       "65           2661\n",
       "66           C.A.\n",
       "67           S.P.\n",
       "68        3101281\n",
       "69         315151\n",
       "70           C.A.\n",
       "71             CA\n",
       "72         S.O.C.\n",
       "73           2680\n",
       "74           1601\n",
       "75         348123\n",
       "76         349208\n",
       "77         374746\n",
       "78         248738\n",
       "79         364516\n",
       "80         345767\n",
       "81         345779\n",
       "82         330932\n",
       "83         113059\n",
       "84           SO/C\n",
       "85        3101278\n",
       "86          W./C.\n",
       "87       SOTON/OQ\n",
       "88          19950\n",
       "89         343275\n",
       "90         343276\n",
       "91         347466\n",
       "92         W.E.P.\n",
       "93           C.A.\n",
       "94         364500\n",
       "95         374910\n",
       "96             PC\n",
       "97             PC\n",
       "98         231919\n",
       "99         244367\n",
       "100        349245\n",
       "101        349215\n",
       "102         35281\n",
       "103          7540\n",
       "104       3101276\n",
       "105        349207\n",
       "106        343120\n",
       "107        312991\n",
       "108        349249\n",
       "109        371110\n",
       "110        110465\n",
       "111          2665\n",
       "112        324669\n",
       "113          4136\n",
       "114          2627\n",
       "115        STON/O\n",
       "116        370369\n",
       "117         11668\n",
       "118            PC\n",
       "119        347082\n",
       "120        S.O.C.\n",
       "121           A4.\n",
       "122        237736\n",
       "123         27267\n",
       "124         35281\n",
       "125          2651\n",
       "126        370372\n",
       "127             C\n",
       "128          2668\n",
       "129        347061\n",
       "130        349241\n",
       "131    SOTON/O.Q.\n",
       "132          A/5.\n",
       "133        228414\n",
       "134          C.A.\n",
       "135      SC/PARIS\n",
       "136         11752\n",
       "137        113803\n",
       "138          7534\n",
       "139            PC\n",
       "140          2678\n",
       "141        347081\n",
       "142      STON/O2.\n",
       "143        365222\n",
       "144        231945\n",
       "145          C.A.\n",
       "146        350043\n",
       "147         W./C.\n",
       "148        230080\n",
       "149        244310\n",
       "150        S.O.P.\n",
       "151        113776\n",
       "152          A.5.\n",
       "153          A/5.\n",
       "154            Fa\n",
       "155            PC\n",
       "156         35851\n",
       "157      SOTON/OQ\n",
       "158        315037\n",
       "159           CA.\n",
       "160        371362\n",
       "161          C.A.\n",
       "162        347068\n",
       "163        315093\n",
       "164       3101295\n",
       "165        363291\n",
       "166        113505\n",
       "167        347088\n",
       "168            PC\n",
       "169          1601\n",
       "170        111240\n",
       "171        382652\n",
       "172        347742\n",
       "173        STON/O\n",
       "174         17764\n",
       "175        350404\n",
       "176          4133\n",
       "177            PC\n",
       "178        250653\n",
       "179          LINE\n",
       "180           CA.\n",
       "181      SC/PARIS\n",
       "182        347077\n",
       "183        230136\n",
       "184        315153\n",
       "185        113767\n",
       "186        370365\n",
       "187        111428\n",
       "188        364849\n",
       "189        349247\n",
       "190        234604\n",
       "191         28424\n",
       "192        350046\n",
       "193        230080\n",
       "194            PC\n",
       "195            PC\n",
       "196        368703\n",
       "197          4579\n",
       "198        370370\n",
       "199        248747\n",
       "200        345770\n",
       "201           CA.\n",
       "202       3101264\n",
       "203          2628\n",
       "204           A/5\n",
       "205        347054\n",
       "206       3101278\n",
       "207          2699\n",
       "208        367231\n",
       "209        112277\n",
       "210    SOTON/O.Q.\n",
       "211        F.C.C.\n",
       "212           A/5\n",
       "213        250646\n",
       "214        367229\n",
       "215         35273\n",
       "216      STON/O2.\n",
       "217        243847\n",
       "218         11813\n",
       "219           W/C\n",
       "220      SOTON/OQ\n",
       "221        220367\n",
       "222         21440\n",
       "223        349234\n",
       "224         19943\n",
       "225            PP\n",
       "226         SW/PP\n",
       "227           A/5\n",
       "228        236171\n",
       "229          4133\n",
       "230         36973\n",
       "231        347067\n",
       "232        237442\n",
       "233        347077\n",
       "234          C.A.\n",
       "235         W./C.\n",
       "236         26707\n",
       "237          C.A.\n",
       "238         28665\n",
       "239         SCO/W\n",
       "240          2665\n",
       "241        367230\n",
       "242         W./C.\n",
       "243        STON/O\n",
       "244          2694\n",
       "245         19928\n",
       "246        347071\n",
       "247        250649\n",
       "248         11751\n",
       "249        244252\n",
       "250        362316\n",
       "251        347054\n",
       "252        113514\n",
       "253          A/5.\n",
       "254        370129\n",
       "255          2650\n",
       "256            PC\n",
       "257        110152\n",
       "258            PC\n",
       "259        230433\n",
       "260        384461\n",
       "261        347077\n",
       "262        110413\n",
       "263        112059\n",
       "264        382649\n",
       "265          C.A.\n",
       "266       3101295\n",
       "267        347083\n",
       "268            PC\n",
       "269            PC\n",
       "270        113798\n",
       "271          LINE\n",
       "272        250644\n",
       "273            PC\n",
       "274        370375\n",
       "275         13502\n",
       "276        347073\n",
       "277        239853\n",
       "278        382652\n",
       "279          C.A.\n",
       "280        336439\n",
       "281        347464\n",
       "282        345778\n",
       "283          A/5.\n",
       "284        113056\n",
       "285        349239\n",
       "286        345774\n",
       "287        349206\n",
       "288        237798\n",
       "289        370373\n",
       "290         19877\n",
       "291         11967\n",
       "292      SC/Paris\n",
       "293        349236\n",
       "294        349233\n",
       "295            PC\n",
       "296          2693\n",
       "297        113781\n",
       "298         19988\n",
       "299            PC\n",
       "300          9234\n",
       "301        367226\n",
       "302          LINE\n",
       "303        226593\n",
       "304           A/5\n",
       "305        113781\n",
       "306         17421\n",
       "307            PC\n",
       "308          P/PP\n",
       "309            PC\n",
       "310         11767\n",
       "311            PC\n",
       "312        250651\n",
       "313        349243\n",
       "314        F.C.C.\n",
       "315        347470\n",
       "316        244367\n",
       "317         29011\n",
       "318         36928\n",
       "319         16966\n",
       "320           A/5\n",
       "321        349219\n",
       "322        234818\n",
       "323        248738\n",
       "324           CA.\n",
       "325            PC\n",
       "326        345364\n",
       "327         28551\n",
       "328        363291\n",
       "329        111361\n",
       "330        367226\n",
       "331        113043\n",
       "332            PC\n",
       "333        345764\n",
       "334            PC\n",
       "335        349225\n",
       "336        113776\n",
       "337         16966\n",
       "338          7598\n",
       "339        113784\n",
       "340        230080\n",
       "341         19950\n",
       "342        248740\n",
       "343        244361\n",
       "344        229236\n",
       "345        248733\n",
       "346         31418\n",
       "347        386525\n",
       "348          C.A.\n",
       "349        315088\n",
       "350          7267\n",
       "351        113510\n",
       "352          2695\n",
       "353        349237\n",
       "354          2647\n",
       "355        345783\n",
       "356        113505\n",
       "357        237671\n",
       "358        330931\n",
       "359        330980\n",
       "360        347088\n",
       "361      SC/PARIS\n",
       "362          2691\n",
       "363    SOTON/O.Q.\n",
       "364        370365\n",
       "365             C\n",
       "366        110813\n",
       "367          2626\n",
       "368         14313\n",
       "369            PC\n",
       "370         11765\n",
       "371       3101267\n",
       "372        323951\n",
       "373            PC\n",
       "374        349909\n",
       "375            PC\n",
       "376             C\n",
       "377        113503\n",
       "378          2648\n",
       "379        347069\n",
       "380            PC\n",
       "381          2653\n",
       "382        STON/O\n",
       "383        113789\n",
       "384        349227\n",
       "385        S.O.C.\n",
       "386            CA\n",
       "387         27849\n",
       "388        367655\n",
       "389            SC\n",
       "390        113760\n",
       "391        350034\n",
       "392       3101277\n",
       "393         35273\n",
       "394            PP\n",
       "395        350052\n",
       "396        350407\n",
       "397         28403\n",
       "398        244278\n",
       "399        240929\n",
       "400        STON/O\n",
       "401        341826\n",
       "402          4137\n",
       "403      STON/O2.\n",
       "404        315096\n",
       "405         28664\n",
       "406        347064\n",
       "407         29106\n",
       "408        312992\n",
       "409          4133\n",
       "410        349222\n",
       "411        394140\n",
       "412         19928\n",
       "413        239853\n",
       "414        STON/O\n",
       "415        343095\n",
       "416         28220\n",
       "417        250652\n",
       "418         28228\n",
       "419        345773\n",
       "420        349254\n",
       "421          A/5.\n",
       "422        315082\n",
       "423        347080\n",
       "424        370129\n",
       "425          A/4.\n",
       "426          2003\n",
       "427        250655\n",
       "428        364851\n",
       "429    SOTON/O.Q.\n",
       "430        110564\n",
       "431        376564\n",
       "432         SC/AH\n",
       "433        STON/O\n",
       "434         13507\n",
       "435        113760\n",
       "436         W./C.\n",
       "437         29106\n",
       "438         19950\n",
       "439          C.A.\n",
       "440        F.C.C.\n",
       "441        345769\n",
       "442        347076\n",
       "443        230434\n",
       "444         65306\n",
       "445         33638\n",
       "446        250644\n",
       "447        113794\n",
       "448          2666\n",
       "449        113786\n",
       "450          C.A.\n",
       "451         65303\n",
       "452        113051\n",
       "453         17453\n",
       "454           A/5\n",
       "455        349240\n",
       "456         13509\n",
       "457         17464\n",
       "458        F.C.C.\n",
       "459        371060\n",
       "460         19952\n",
       "461        364506\n",
       "462        111320\n",
       "463        234360\n",
       "464           A/S\n",
       "465    SOTON/O.Q.\n",
       "466        239853\n",
       "467        113792\n",
       "468         36209\n",
       "469          2666\n",
       "470        323592\n",
       "471        315089\n",
       "472          C.A.\n",
       "473         SC/AH\n",
       "474          7553\n",
       "475        110465\n",
       "476         31027\n",
       "477          3460\n",
       "478        350060\n",
       "479       3101298\n",
       "480            CA\n",
       "481        239854\n",
       "482           A/5\n",
       "483          4134\n",
       "484         11967\n",
       "485          4133\n",
       "486         19943\n",
       "487         11771\n",
       "488          A.5.\n",
       "489          C.A.\n",
       "490         65304\n",
       "491      SOTON/OQ\n",
       "492        113787\n",
       "493            PC\n",
       "494           A/4\n",
       "495          2627\n",
       "496         36947\n",
       "497          C.A.\n",
       "498        113781\n",
       "499        350035\n",
       "500        315086\n",
       "501        364846\n",
       "502        330909\n",
       "503          4135\n",
       "504        110152\n",
       "505            PC\n",
       "506         26360\n",
       "507        111427\n",
       "508             C\n",
       "509          1601\n",
       "510        382651\n",
       "511      SOTON/OQ\n",
       "512            PC\n",
       "513            PC\n",
       "514        349209\n",
       "515         36967\n",
       "516          C.A.\n",
       "517        371110\n",
       "518        226875\n",
       "519        349242\n",
       "520         12749\n",
       "521        349252\n",
       "522          2624\n",
       "523        111361\n",
       "524          2700\n",
       "525        367232\n",
       "526         W./C.\n",
       "527            PC\n",
       "528       3101296\n",
       "529         29104\n",
       "530         26360\n",
       "531          2641\n",
       "532          2690\n",
       "533          2668\n",
       "534        315084\n",
       "535        F.C.C.\n",
       "536        113050\n",
       "537            PC\n",
       "538        364498\n",
       "539         13568\n",
       "540          WE/P\n",
       "541        347082\n",
       "542        347082\n",
       "543          2908\n",
       "544            PC\n",
       "545           693\n",
       "546          2908\n",
       "547      SC/PARIS\n",
       "548        363291\n",
       "549          C.A.\n",
       "550         17421\n",
       "551        244358\n",
       "552        330979\n",
       "553          2620\n",
       "554        347085\n",
       "555        113807\n",
       "556         11755\n",
       "557            PC\n",
       "558        110413\n",
       "559        345572\n",
       "560        372622\n",
       "561        349251\n",
       "562        218629\n",
       "563      SOTON/OQ\n",
       "564    SOTON/O.Q.\n",
       "565           A/4\n",
       "566        349205\n",
       "567        349909\n",
       "568          2686\n",
       "569        350417\n",
       "570       S.W./PP\n",
       "571         11769\n",
       "572            PC\n",
       "573         14312\n",
       "574          A/4.\n",
       "575        358585\n",
       "576        243880\n",
       "577         13507\n",
       "578          2689\n",
       "579        STON/O\n",
       "580        237789\n",
       "581         17421\n",
       "582         28403\n",
       "583         13049\n",
       "584          3411\n",
       "585        110413\n",
       "586        237565\n",
       "587         13567\n",
       "588         14973\n",
       "589         A./5.\n",
       "590        STON/O\n",
       "591         36947\n",
       "592           A/5\n",
       "593        364848\n",
       "594         SC/AH\n",
       "595        345773\n",
       "596        248727\n",
       "597          LINE\n",
       "598          2664\n",
       "599            PC\n",
       "600        243847\n",
       "601        349214\n",
       "602        113796\n",
       "603        364511\n",
       "604        111426\n",
       "605        349910\n",
       "606        349246\n",
       "607        113804\n",
       "608      SC/Paris\n",
       "609            PC\n",
       "610        347082\n",
       "611    SOTON/O.Q.\n",
       "612        367230\n",
       "613        370377\n",
       "614        364512\n",
       "615        220845\n",
       "616        347080\n",
       "617          A/5.\n",
       "618        230136\n",
       "619         31028\n",
       "620          2659\n",
       "621         11753\n",
       "622          2653\n",
       "623        350029\n",
       "624         54636\n",
       "625         36963\n",
       "626        219533\n",
       "627         13502\n",
       "628        349224\n",
       "629        334912\n",
       "630         27042\n",
       "631        347743\n",
       "632         13214\n",
       "633        112052\n",
       "634        347088\n",
       "635        237668\n",
       "636        STON/O\n",
       "637          C.A.\n",
       "638       3101295\n",
       "639        376564\n",
       "640        350050\n",
       "641            PC\n",
       "642        347088\n",
       "643          1601\n",
       "644          2666\n",
       "645            PC\n",
       "646        349231\n",
       "647         13213\n",
       "648     S.O./P.P.\n",
       "649           CA.\n",
       "650        349221\n",
       "651        231919\n",
       "652          8475\n",
       "653        330919\n",
       "654        365226\n",
       "655        S.O.C.\n",
       "656        349223\n",
       "657        364849\n",
       "658         29751\n",
       "659         35273\n",
       "660            PC\n",
       "661          2623\n",
       "662          5727\n",
       "663        349210\n",
       "664        STON/O\n",
       "665        S.O.C.\n",
       "666        234686\n",
       "667        312993\n",
       "668           A/5\n",
       "669         19996\n",
       "670         29750\n",
       "671          F.C.\n",
       "672          C.A.\n",
       "673        244270\n",
       "674        239856\n",
       "675        349912\n",
       "676        342826\n",
       "677          4138\n",
       "678            CA\n",
       "679            PC\n",
       "680        330935\n",
       "681            PC\n",
       "682          6563\n",
       "683            CA\n",
       "684         29750\n",
       "685      SC/Paris\n",
       "686       3101295\n",
       "687        349228\n",
       "688        350036\n",
       "689         24160\n",
       "690         17474\n",
       "691        349256\n",
       "692          1601\n",
       "693          2672\n",
       "694        113800\n",
       "695        248731\n",
       "696        363592\n",
       "697         35852\n",
       "698         17421\n",
       "699        348121\n",
       "700            PC\n",
       "701            PC\n",
       "702          2691\n",
       "703         36864\n",
       "704        350025\n",
       "705        250655\n",
       "706        223596\n",
       "707            PC\n",
       "708        113781\n",
       "709          2661\n",
       "710            PC\n",
       "711        113028\n",
       "712         19996\n",
       "713          7545\n",
       "714        250647\n",
       "715        348124\n",
       "716            PC\n",
       "717         34218\n",
       "718         36568\n",
       "719        347062\n",
       "720        248727\n",
       "721        350048\n",
       "722         12233\n",
       "723        250643\n",
       "724        113806\n",
       "725        315094\n",
       "726         31027\n",
       "727         36866\n",
       "728        236853\n",
       "729      STON/O2.\n",
       "730         24160\n",
       "731          2699\n",
       "732        239855\n",
       "733         28425\n",
       "734        233639\n",
       "735         54636\n",
       "736         W./C.\n",
       "737            PC\n",
       "738        349201\n",
       "739        349218\n",
       "740         16988\n",
       "741         19877\n",
       "742            PC\n",
       "743        376566\n",
       "744        STON/O\n",
       "745          WE/P\n",
       "746          C.A.\n",
       "747        250648\n",
       "748        113773\n",
       "749        335097\n",
       "750         29103\n",
       "751        392096\n",
       "752        345780\n",
       "753        349204\n",
       "754        220845\n",
       "755        250649\n",
       "756        350042\n",
       "757         29108\n",
       "758        363294\n",
       "759        110152\n",
       "760        358585\n",
       "761      SOTON/O2\n",
       "762          2663\n",
       "763        113760\n",
       "764        347074\n",
       "765         13502\n",
       "766        112379\n",
       "767        364850\n",
       "768        371110\n",
       "769          8471\n",
       "770        345781\n",
       "771        350047\n",
       "772     S.O./P.P.\n",
       "773          2674\n",
       "774         29105\n",
       "775        347078\n",
       "776        383121\n",
       "777        364516\n",
       "778         36865\n",
       "779         24160\n",
       "780          2687\n",
       "781         17474\n",
       "782        113501\n",
       "783         W./C.\n",
       "784    SOTON/O.Q.\n",
       "785        374887\n",
       "786       3101265\n",
       "787        382652\n",
       "788          C.A.\n",
       "789            PC\n",
       "790         12460\n",
       "791        239865\n",
       "792           CA.\n",
       "793            PC\n",
       "794        349203\n",
       "795         28213\n",
       "796         17465\n",
       "797        349244\n",
       "798          2685\n",
       "799        345773\n",
       "800        250647\n",
       "801          C.A.\n",
       "802        113760\n",
       "803          2625\n",
       "804        347089\n",
       "805        347063\n",
       "806        112050\n",
       "807        347087\n",
       "808        248723\n",
       "809        113806\n",
       "810          3474\n",
       "811           A/4\n",
       "812         28206\n",
       "813        347082\n",
       "814        364499\n",
       "815        112058\n",
       "816      STON/O2.\n",
       "817    S.C./PARIS\n",
       "818             C\n",
       "819        347088\n",
       "820         12749\n",
       "821        315098\n",
       "822         19972\n",
       "823        392096\n",
       "824       3101295\n",
       "825        368323\n",
       "826          1601\n",
       "827    S.C./PARIS\n",
       "828        367228\n",
       "829        113572\n",
       "830          2659\n",
       "831         29106\n",
       "832          2671\n",
       "833        347468\n",
       "834          2223\n",
       "835            PC\n",
       "836        315097\n",
       "837        392092\n",
       "838          1601\n",
       "839         11774\n",
       "840      SOTON/O2\n",
       "841     S.O./P.P.\n",
       "842        113798\n",
       "843          2683\n",
       "844        315090\n",
       "845          C.A.\n",
       "846           CA.\n",
       "847        349213\n",
       "848        248727\n",
       "849         17453\n",
       "850        347082\n",
       "851        347060\n",
       "852          2678\n",
       "853            PC\n",
       "854        244252\n",
       "855        392091\n",
       "856         36928\n",
       "857        113055\n",
       "858          2666\n",
       "859          2629\n",
       "860        350026\n",
       "861         28134\n",
       "862         17466\n",
       "863           CA.\n",
       "864        233866\n",
       "865        236852\n",
       "866      SC/PARIS\n",
       "867            PC\n",
       "868        345777\n",
       "869        347742\n",
       "870        349248\n",
       "871         11751\n",
       "872           695\n",
       "873        345765\n",
       "874          P/PP\n",
       "875          2667\n",
       "876          7534\n",
       "877        349212\n",
       "878        349217\n",
       "879         11767\n",
       "880        230433\n",
       "881        349257\n",
       "882          7552\n",
       "883    C.A./SOTON\n",
       "884      SOTON/OQ\n",
       "885        382652\n",
       "886        211536\n",
       "887        112053\n",
       "888         W./C.\n",
       "889        111369\n",
       "890        370376\n",
       "Name: Ticket, dtype: object"
      ]
     },
     "execution_count": 28,
     "metadata": {},
     "output_type": "execute_result"
    }
   ],
   "source": [
    "# Extract the first letter from the ticket variable\n",
    "def get_first_letter_ticket(row):\n",
    "    try:\n",
    "        return row.split()[0]\n",
    "    except:\n",
    "        return np.nan\n",
    "df['Ticket'] = df['Ticket'].apply(get_first_letter_ticket)\n",
    "df['Ticket']\n",
    "\n",
    "# Let's capture the first letter of cabin.\n",
    "#df['Ticket_c'] = df['Ticket'].astype(str).str[0]\n",
    "#df[['Ticket', 'Ticket_c']].head()"
   ]
  },
  {
   "cell_type": "code",
   "execution_count": 29,
   "id": "8f0b4aef",
   "metadata": {},
   "outputs": [
    {
     "data": {
      "text/html": [
       "<div>\n",
       "<style scoped>\n",
       "    .dataframe tbody tr th:only-of-type {\n",
       "        vertical-align: middle;\n",
       "    }\n",
       "\n",
       "    .dataframe tbody tr th {\n",
       "        vertical-align: top;\n",
       "    }\n",
       "\n",
       "    .dataframe thead th {\n",
       "        text-align: right;\n",
       "    }\n",
       "</style>\n",
       "<table border=\"1\" class=\"dataframe\">\n",
       "  <thead>\n",
       "    <tr style=\"text-align: right;\">\n",
       "      <th></th>\n",
       "      <th>Survived</th>\n",
       "      <th>Pclass</th>\n",
       "      <th>Sex</th>\n",
       "      <th>Age</th>\n",
       "      <th>SibSp</th>\n",
       "      <th>Parch</th>\n",
       "      <th>Fare</th>\n",
       "      <th>Embarked</th>\n",
       "    </tr>\n",
       "  </thead>\n",
       "  <tbody>\n",
       "    <tr>\n",
       "      <th>886</th>\n",
       "      <td>0</td>\n",
       "      <td>2</td>\n",
       "      <td>male</td>\n",
       "      <td>27.0</td>\n",
       "      <td>0</td>\n",
       "      <td>0</td>\n",
       "      <td>13.00</td>\n",
       "      <td>S</td>\n",
       "    </tr>\n",
       "    <tr>\n",
       "      <th>887</th>\n",
       "      <td>1</td>\n",
       "      <td>1</td>\n",
       "      <td>female</td>\n",
       "      <td>19.0</td>\n",
       "      <td>0</td>\n",
       "      <td>0</td>\n",
       "      <td>30.00</td>\n",
       "      <td>S</td>\n",
       "    </tr>\n",
       "    <tr>\n",
       "      <th>888</th>\n",
       "      <td>0</td>\n",
       "      <td>3</td>\n",
       "      <td>female</td>\n",
       "      <td>NaN</td>\n",
       "      <td>1</td>\n",
       "      <td>2</td>\n",
       "      <td>23.45</td>\n",
       "      <td>S</td>\n",
       "    </tr>\n",
       "    <tr>\n",
       "      <th>889</th>\n",
       "      <td>1</td>\n",
       "      <td>1</td>\n",
       "      <td>male</td>\n",
       "      <td>26.0</td>\n",
       "      <td>0</td>\n",
       "      <td>0</td>\n",
       "      <td>30.00</td>\n",
       "      <td>C</td>\n",
       "    </tr>\n",
       "    <tr>\n",
       "      <th>890</th>\n",
       "      <td>0</td>\n",
       "      <td>3</td>\n",
       "      <td>male</td>\n",
       "      <td>32.0</td>\n",
       "      <td>0</td>\n",
       "      <td>0</td>\n",
       "      <td>7.75</td>\n",
       "      <td>Q</td>\n",
       "    </tr>\n",
       "  </tbody>\n",
       "</table>\n",
       "</div>"
      ],
      "text/plain": [
       "     Survived  Pclass     Sex   Age  SibSp  Parch   Fare Embarked\n",
       "886         0       2    male  27.0      0      0  13.00        S\n",
       "887         1       1  female  19.0      0      0  30.00        S\n",
       "888         0       3  female   NaN      1      2  23.45        S\n",
       "889         1       1    male  26.0      0      0  30.00        C\n",
       "890         0       3    male  32.0      0      0   7.75        Q"
      ]
     },
     "execution_count": 29,
     "metadata": {},
     "output_type": "execute_result"
    }
   ],
   "source": [
    "#droping the 'cabin' column as it has got mostly NULL values abd lower relation with the target variable, need to consider only significant features\n",
    "df = df.drop(columns=['Cabin','PassengerId', 'Name', 'Ticket'], axis=1)\n",
    "df.tail()"
   ]
  },
  {
   "cell_type": "code",
   "execution_count": 30,
   "id": "6f71929e",
   "metadata": {},
   "outputs": [
    {
     "name": "stdout",
     "output_type": "stream",
     "text": [
      "(891, 8)\n",
      "7128\n"
     ]
    }
   ],
   "source": [
    "#make confirm about the dropping column\n",
    "print(df.shape)\n",
    "print(df.size)"
   ]
  },
  {
   "cell_type": "markdown",
   "id": "3ee6d328",
   "metadata": {},
   "source": [
    "Missing Value Imputation using Mean, Median - Numeric values"
   ]
  },
  {
   "cell_type": "code",
   "execution_count": 31,
   "id": "7f256791",
   "metadata": {},
   "outputs": [
    {
     "data": {
      "text/plain": [
       "Survived    0\n",
       "Pclass      0\n",
       "Sex         0\n",
       "Age         0\n",
       "SibSp       0\n",
       "Parch       0\n",
       "Fare        0\n",
       "Embarked    2\n",
       "dtype: int64"
      ]
     },
     "execution_count": 31,
     "metadata": {},
     "output_type": "execute_result"
    }
   ],
   "source": [
    "#missing Imputation by Mean, Median - Numeric values, Mode - Categorrical value\n",
    "df['Age'].mean()\n",
    "df['Age'].fillna(value=df['Age'].mean(),inplace=True)\n",
    "df.isnull().sum()"
   ]
  },
  {
   "cell_type": "markdown",
   "id": "b194eb33",
   "metadata": {},
   "source": [
    "Missing Value Imputation using Scikit-learn - Categorical values"
   ]
  },
  {
   "cell_type": "code",
   "execution_count": 32,
   "id": "a5faafe6",
   "metadata": {},
   "outputs": [
    {
     "name": "stdout",
     "output_type": "stream",
     "text": [
      "categorical variables in dataset ['Sex' 'Embarked']\n",
      "['S']\n",
      "after imputation in Embarked variable 0\n"
     ]
    }
   ],
   "source": [
    "#missing value imputation by scikit-learn\n",
    "\n",
    "from sklearn.impute import SimpleImputer\n",
    "\n",
    "print('categorical variables in dataset',df.select_dtypes(include=['O']).columns.values)\n",
    "\n",
    "imputer_mode = SimpleImputer(strategy='most_frequent')\n",
    "imputer_mode.fit(df['Embarked'].values.reshape(-1,1))\n",
    "\n",
    "print(imputer_mode.statistics_)\n",
    "df_embarked=imputer_mode.transform(df['Embarked'].values.reshape(-1,1))\n",
    "\n",
    "df['Embarked'] = df_embarked\n",
    "print('after imputation in Embarked variable', df['Embarked'].isnull().sum())"
   ]
  },
  {
   "cell_type": "markdown",
   "id": "0b29bc33",
   "metadata": {},
   "source": [
    "Data Transformation: Categorical variable Encoding"
   ]
  },
  {
   "cell_type": "code",
   "execution_count": 33,
   "id": "4827162e",
   "metadata": {},
   "outputs": [
    {
     "data": {
      "text/html": [
       "<div>\n",
       "<style scoped>\n",
       "    .dataframe tbody tr th:only-of-type {\n",
       "        vertical-align: middle;\n",
       "    }\n",
       "\n",
       "    .dataframe tbody tr th {\n",
       "        vertical-align: top;\n",
       "    }\n",
       "\n",
       "    .dataframe thead th {\n",
       "        text-align: right;\n",
       "    }\n",
       "</style>\n",
       "<table border=\"1\" class=\"dataframe\">\n",
       "  <thead>\n",
       "    <tr style=\"text-align: right;\">\n",
       "      <th></th>\n",
       "      <th>Survived</th>\n",
       "      <th>Pclass</th>\n",
       "      <th>Age</th>\n",
       "      <th>SibSp</th>\n",
       "      <th>Parch</th>\n",
       "      <th>Fare</th>\n",
       "      <th>Sex_male</th>\n",
       "      <th>Embarked_Q</th>\n",
       "      <th>Embarked_S</th>\n",
       "    </tr>\n",
       "  </thead>\n",
       "  <tbody>\n",
       "    <tr>\n",
       "      <th>0</th>\n",
       "      <td>0</td>\n",
       "      <td>3</td>\n",
       "      <td>22.0</td>\n",
       "      <td>1</td>\n",
       "      <td>0</td>\n",
       "      <td>7.2500</td>\n",
       "      <td>1</td>\n",
       "      <td>0</td>\n",
       "      <td>1</td>\n",
       "    </tr>\n",
       "    <tr>\n",
       "      <th>1</th>\n",
       "      <td>1</td>\n",
       "      <td>1</td>\n",
       "      <td>38.0</td>\n",
       "      <td>1</td>\n",
       "      <td>0</td>\n",
       "      <td>71.2833</td>\n",
       "      <td>0</td>\n",
       "      <td>0</td>\n",
       "      <td>0</td>\n",
       "    </tr>\n",
       "    <tr>\n",
       "      <th>2</th>\n",
       "      <td>1</td>\n",
       "      <td>3</td>\n",
       "      <td>26.0</td>\n",
       "      <td>0</td>\n",
       "      <td>0</td>\n",
       "      <td>7.9250</td>\n",
       "      <td>0</td>\n",
       "      <td>0</td>\n",
       "      <td>1</td>\n",
       "    </tr>\n",
       "    <tr>\n",
       "      <th>3</th>\n",
       "      <td>1</td>\n",
       "      <td>1</td>\n",
       "      <td>35.0</td>\n",
       "      <td>1</td>\n",
       "      <td>0</td>\n",
       "      <td>53.1000</td>\n",
       "      <td>0</td>\n",
       "      <td>0</td>\n",
       "      <td>1</td>\n",
       "    </tr>\n",
       "    <tr>\n",
       "      <th>4</th>\n",
       "      <td>0</td>\n",
       "      <td>3</td>\n",
       "      <td>35.0</td>\n",
       "      <td>0</td>\n",
       "      <td>0</td>\n",
       "      <td>8.0500</td>\n",
       "      <td>1</td>\n",
       "      <td>0</td>\n",
       "      <td>1</td>\n",
       "    </tr>\n",
       "  </tbody>\n",
       "</table>\n",
       "</div>"
      ],
      "text/plain": [
       "   Survived  Pclass   Age  SibSp  Parch     Fare  Sex_male  Embarked_Q  \\\n",
       "0         0       3  22.0      1      0   7.2500         1           0   \n",
       "1         1       1  38.0      1      0  71.2833         0           0   \n",
       "2         1       3  26.0      0      0   7.9250         0           0   \n",
       "3         1       1  35.0      1      0  53.1000         0           0   \n",
       "4         0       3  35.0      0      0   8.0500         1           0   \n",
       "\n",
       "   Embarked_S  \n",
       "0           1  \n",
       "1           0  \n",
       "2           1  \n",
       "3           1  \n",
       "4           1  "
      ]
     },
     "execution_count": 33,
     "metadata": {},
     "output_type": "execute_result"
    }
   ],
   "source": [
    "# Categorical Variable Encoding: ordinal-label encoder:target variable, nominal-onehot encoding or dummy variable\n",
    "\n",
    "#using get_dummies variable\n",
    "df_encoding = pd.get_dummies(df)\n",
    "df_encoding = df_encoding.drop(columns=['Sex_female', 'Embarked_C'])\n",
    "df_encoding.head()\n",
    "\n",
    "#using Scikit-learn\n",
    "#from sklearn.preprocessing import OneHotEncoder\n",
    "#encoding = OneHotEncoder(sparse=False)\n",
    "#df['Embarked'] = encoding.fit_transform(df['Embarked'].values.reshape(-1,1))"
   ]
  },
  {
   "cell_type": "code",
   "execution_count": 34,
   "id": "71a1a635",
   "metadata": {},
   "outputs": [
    {
     "data": {
      "text/html": [
       "<div>\n",
       "<style scoped>\n",
       "    .dataframe tbody tr th:only-of-type {\n",
       "        vertical-align: middle;\n",
       "    }\n",
       "\n",
       "    .dataframe tbody tr th {\n",
       "        vertical-align: top;\n",
       "    }\n",
       "\n",
       "    .dataframe thead th {\n",
       "        text-align: right;\n",
       "    }\n",
       "</style>\n",
       "<table border=\"1\" class=\"dataframe\">\n",
       "  <thead>\n",
       "    <tr style=\"text-align: right;\">\n",
       "      <th></th>\n",
       "      <th>Survived</th>\n",
       "      <th>Pclass</th>\n",
       "      <th>Age</th>\n",
       "      <th>SibSp</th>\n",
       "      <th>Parch</th>\n",
       "      <th>Fare</th>\n",
       "      <th>Sex_male</th>\n",
       "      <th>Embarked_Q</th>\n",
       "      <th>Embarked_S</th>\n",
       "    </tr>\n",
       "  </thead>\n",
       "  <tbody>\n",
       "    <tr>\n",
       "      <th>count</th>\n",
       "      <td>891.000000</td>\n",
       "      <td>891.000000</td>\n",
       "      <td>891.000000</td>\n",
       "      <td>891.000000</td>\n",
       "      <td>891.000000</td>\n",
       "      <td>891.000000</td>\n",
       "      <td>891.000000</td>\n",
       "      <td>891.000000</td>\n",
       "      <td>891.000000</td>\n",
       "    </tr>\n",
       "    <tr>\n",
       "      <th>mean</th>\n",
       "      <td>0.383838</td>\n",
       "      <td>2.308642</td>\n",
       "      <td>29.699118</td>\n",
       "      <td>0.523008</td>\n",
       "      <td>0.381594</td>\n",
       "      <td>32.204208</td>\n",
       "      <td>0.647587</td>\n",
       "      <td>0.086420</td>\n",
       "      <td>0.725028</td>\n",
       "    </tr>\n",
       "    <tr>\n",
       "      <th>std</th>\n",
       "      <td>0.486592</td>\n",
       "      <td>0.836071</td>\n",
       "      <td>13.002015</td>\n",
       "      <td>1.102743</td>\n",
       "      <td>0.806057</td>\n",
       "      <td>49.693429</td>\n",
       "      <td>0.477990</td>\n",
       "      <td>0.281141</td>\n",
       "      <td>0.446751</td>\n",
       "    </tr>\n",
       "    <tr>\n",
       "      <th>min</th>\n",
       "      <td>0.000000</td>\n",
       "      <td>1.000000</td>\n",
       "      <td>0.420000</td>\n",
       "      <td>0.000000</td>\n",
       "      <td>0.000000</td>\n",
       "      <td>0.000000</td>\n",
       "      <td>0.000000</td>\n",
       "      <td>0.000000</td>\n",
       "      <td>0.000000</td>\n",
       "    </tr>\n",
       "    <tr>\n",
       "      <th>25%</th>\n",
       "      <td>0.000000</td>\n",
       "      <td>2.000000</td>\n",
       "      <td>22.000000</td>\n",
       "      <td>0.000000</td>\n",
       "      <td>0.000000</td>\n",
       "      <td>7.910400</td>\n",
       "      <td>0.000000</td>\n",
       "      <td>0.000000</td>\n",
       "      <td>0.000000</td>\n",
       "    </tr>\n",
       "    <tr>\n",
       "      <th>50%</th>\n",
       "      <td>0.000000</td>\n",
       "      <td>3.000000</td>\n",
       "      <td>29.699118</td>\n",
       "      <td>0.000000</td>\n",
       "      <td>0.000000</td>\n",
       "      <td>14.454200</td>\n",
       "      <td>1.000000</td>\n",
       "      <td>0.000000</td>\n",
       "      <td>1.000000</td>\n",
       "    </tr>\n",
       "    <tr>\n",
       "      <th>75%</th>\n",
       "      <td>1.000000</td>\n",
       "      <td>3.000000</td>\n",
       "      <td>35.000000</td>\n",
       "      <td>1.000000</td>\n",
       "      <td>0.000000</td>\n",
       "      <td>31.000000</td>\n",
       "      <td>1.000000</td>\n",
       "      <td>0.000000</td>\n",
       "      <td>1.000000</td>\n",
       "    </tr>\n",
       "    <tr>\n",
       "      <th>max</th>\n",
       "      <td>1.000000</td>\n",
       "      <td>3.000000</td>\n",
       "      <td>80.000000</td>\n",
       "      <td>8.000000</td>\n",
       "      <td>6.000000</td>\n",
       "      <td>512.329200</td>\n",
       "      <td>1.000000</td>\n",
       "      <td>1.000000</td>\n",
       "      <td>1.000000</td>\n",
       "    </tr>\n",
       "  </tbody>\n",
       "</table>\n",
       "</div>"
      ],
      "text/plain": [
       "         Survived      Pclass         Age       SibSp       Parch        Fare  \\\n",
       "count  891.000000  891.000000  891.000000  891.000000  891.000000  891.000000   \n",
       "mean     0.383838    2.308642   29.699118    0.523008    0.381594   32.204208   \n",
       "std      0.486592    0.836071   13.002015    1.102743    0.806057   49.693429   \n",
       "min      0.000000    1.000000    0.420000    0.000000    0.000000    0.000000   \n",
       "25%      0.000000    2.000000   22.000000    0.000000    0.000000    7.910400   \n",
       "50%      0.000000    3.000000   29.699118    0.000000    0.000000   14.454200   \n",
       "75%      1.000000    3.000000   35.000000    1.000000    0.000000   31.000000   \n",
       "max      1.000000    3.000000   80.000000    8.000000    6.000000  512.329200   \n",
       "\n",
       "         Sex_male  Embarked_Q  Embarked_S  \n",
       "count  891.000000  891.000000  891.000000  \n",
       "mean     0.647587    0.086420    0.725028  \n",
       "std      0.477990    0.281141    0.446751  \n",
       "min      0.000000    0.000000    0.000000  \n",
       "25%      0.000000    0.000000    0.000000  \n",
       "50%      1.000000    0.000000    1.000000  \n",
       "75%      1.000000    0.000000    1.000000  \n",
       "max      1.000000    1.000000    1.000000  "
      ]
     },
     "execution_count": 34,
     "metadata": {},
     "output_type": "execute_result"
    }
   ],
   "source": [
    "#gives statistical information about the dataset\n",
    "df_encoding.describe(include='all')"
   ]
  },
  {
   "cell_type": "markdown",
   "id": "640ee9d5",
   "metadata": {},
   "source": [
    "from count function, can see there are no null values in our datasets"
   ]
  },
  {
   "cell_type": "markdown",
   "id": "400e1592",
   "metadata": {},
   "source": [
    "Data Visualization"
   ]
  },
  {
   "cell_type": "code",
   "execution_count": 35,
   "id": "3daccf96",
   "metadata": {},
   "outputs": [
    {
     "data": {
      "text/plain": [
       "<AxesSubplot:>"
      ]
     },
     "execution_count": 35,
     "metadata": {},
     "output_type": "execute_result"
    },
    {
     "data": {
      "image/png": "[encoded data removed]",
      "text/plain": [
       "<Figure size 1080x360 with 2 Axes>"
      ]
     },
     "metadata": {},
     "output_type": "display_data"
    }
   ],
   "source": [
    "#analysis of the null values\n",
    "plt.figure(figsize=(15,5))\n",
    "sns.heatmap(df_encoding.isnull())"
   ]
  },
  {
   "cell_type": "code",
   "execution_count": 36,
   "id": "750f5b4d",
   "metadata": {},
   "outputs": [
    {
     "data": {
      "text/plain": [
       "<AxesSubplot:>"
      ]
     },
     "execution_count": 36,
     "metadata": {},
     "output_type": "execute_result"
    },
    {
     "data": {
      "image/png": "[encoded data removed]",
      "text/plain": [
       "<Figure size 1080x360 with 1 Axes>"
      ]
     },
     "metadata": {},
     "output_type": "display_data"
    }
   ],
   "source": [
    "plt.figure(figsize=(15,5))\n",
    "df_encoding['Sex_male'].value_counts().plot.bar()"
   ]
  },
  {
   "cell_type": "code",
   "execution_count": 37,
   "id": "1bcd6b8d",
   "metadata": {},
   "outputs": [
    {
     "data": {
      "text/plain": [
       "<AxesSubplot:xlabel='Pclass', ylabel='Age'>"
      ]
     },
     "execution_count": 37,
     "metadata": {},
     "output_type": "execute_result"
    },
    {
     "data": {
      "image/png": "[encoded data removed]",
      "text/plain": [
       "<Figure size 1080x360 with 1 Axes>"
      ]
     },
     "metadata": {},
     "output_type": "display_data"
    }
   ],
   "source": [
    "plt.figure(figsize=(15,5))\n",
    "sns.violinplot(x=df_encoding['Pclass'], y=df_encoding['Age'], hue=df_encoding['Sex_male'])\n",
    "#sns.violinplot(x=df_encoding['Survived'], y=df_encoding['Pclass'], axis=[1])\n",
    "#sns.violinplot(x=df_encoding['Survived'], y=df_encoding['S'])"
   ]
  },
  {
   "cell_type": "code",
   "execution_count": 38,
   "id": "a41c3d81",
   "metadata": {},
   "outputs": [
    {
     "data": {
      "text/plain": [
       "<AxesSubplot:xlabel='Pclass', ylabel='Sex_male'>"
      ]
     },
     "execution_count": 38,
     "metadata": {},
     "output_type": "execute_result"
    },
    {
     "data": {
      "image/png": "[encoded data removed]",
      "text/plain": [
       "<Figure size 1080x360 with 1 Axes>"
      ]
     },
     "metadata": {},
     "output_type": "display_data"
    }
   ],
   "source": [
    "plt.figure(figsize=(15,5))\n",
    "sns.barplot(x=df_encoding['Pclass'], y=df_encoding['Sex_male'], hue=df_encoding['Survived'])"
   ]
  },
  {
   "cell_type": "code",
   "execution_count": 39,
   "id": "766651af",
   "metadata": {},
   "outputs": [
    {
     "data": {
      "text/plain": [
       "<seaborn.axisgrid.FacetGrid at 0x263a0bd3bb0>"
      ]
     },
     "execution_count": 39,
     "metadata": {},
     "output_type": "execute_result"
    },
    {
     "data": {
      "image/png": "[encoded data removed]",
      "text/plain": [
       "<Figure size 415.55x360 with 1 Axes>"
      ]
     },
     "metadata": {},
     "output_type": "display_data"
    }
   ],
   "source": [
    "sns.displot(x=df_encoding['Pclass'], y=df_encoding['Age'], hue=df_encoding['Survived'])"
   ]
  },
  {
   "cell_type": "markdown",
   "id": "491dd8ab",
   "metadata": {},
   "source": [
    "# Conclude from our analysis from the Titanic dataset, that more males would have survived if most of them belonged to upper-class or age is below 18."
   ]
  },
  {
   "cell_type": "markdown",
   "id": "718fb1cc",
   "metadata": {},
   "source": [
    "Saving the Exploratory data Analysis file in pickle module for storing purpose.\n",
    "\n",
    "use of pickle: can transform a complex object into a byte stream and vice-versa"
   ]
  },
  {
   "cell_type": "code",
   "execution_count": 40,
   "id": "2b0ef4db",
   "metadata": {},
   "outputs": [],
   "source": [
    "with open(r'C:\\\\Users\\\\rakhi\\\\OneDrive\\\\Desktop\\\\EDA-Titanic Dataset\\\\models\\\\ExplorataryDataAnalysis.pkl','wb') as file:\n",
    "    pickle.dump(df_encoding, file=file)"
   ]
  },
  {
   "cell_type": "code",
   "execution_count": 41,
   "id": "ce1ec025",
   "metadata": {},
   "outputs": [
    {
     "data": {
      "text/html": [
       "<div>\n",
       "<style scoped>\n",
       "    .dataframe tbody tr th:only-of-type {\n",
       "        vertical-align: middle;\n",
       "    }\n",
       "\n",
       "    .dataframe tbody tr th {\n",
       "        vertical-align: top;\n",
       "    }\n",
       "\n",
       "    .dataframe thead th {\n",
       "        text-align: right;\n",
       "    }\n",
       "</style>\n",
       "<table border=\"1\" class=\"dataframe\">\n",
       "  <thead>\n",
       "    <tr style=\"text-align: right;\">\n",
       "      <th></th>\n",
       "      <th>Survived</th>\n",
       "      <th>Pclass</th>\n",
       "      <th>Age</th>\n",
       "      <th>SibSp</th>\n",
       "      <th>Parch</th>\n",
       "      <th>Fare</th>\n",
       "      <th>Sex_male</th>\n",
       "      <th>Embarked_Q</th>\n",
       "      <th>Embarked_S</th>\n",
       "    </tr>\n",
       "  </thead>\n",
       "  <tbody>\n",
       "    <tr>\n",
       "      <th>881</th>\n",
       "      <td>0</td>\n",
       "      <td>3</td>\n",
       "      <td>33.000000</td>\n",
       "      <td>0</td>\n",
       "      <td>0</td>\n",
       "      <td>7.8958</td>\n",
       "      <td>1</td>\n",
       "      <td>0</td>\n",
       "      <td>1</td>\n",
       "    </tr>\n",
       "    <tr>\n",
       "      <th>882</th>\n",
       "      <td>0</td>\n",
       "      <td>3</td>\n",
       "      <td>22.000000</td>\n",
       "      <td>0</td>\n",
       "      <td>0</td>\n",
       "      <td>10.5167</td>\n",
       "      <td>0</td>\n",
       "      <td>0</td>\n",
       "      <td>1</td>\n",
       "    </tr>\n",
       "    <tr>\n",
       "      <th>883</th>\n",
       "      <td>0</td>\n",
       "      <td>2</td>\n",
       "      <td>28.000000</td>\n",
       "      <td>0</td>\n",
       "      <td>0</td>\n",
       "      <td>10.5000</td>\n",
       "      <td>1</td>\n",
       "      <td>0</td>\n",
       "      <td>1</td>\n",
       "    </tr>\n",
       "    <tr>\n",
       "      <th>884</th>\n",
       "      <td>0</td>\n",
       "      <td>3</td>\n",
       "      <td>25.000000</td>\n",
       "      <td>0</td>\n",
       "      <td>0</td>\n",
       "      <td>7.0500</td>\n",
       "      <td>1</td>\n",
       "      <td>0</td>\n",
       "      <td>1</td>\n",
       "    </tr>\n",
       "    <tr>\n",
       "      <th>885</th>\n",
       "      <td>0</td>\n",
       "      <td>3</td>\n",
       "      <td>39.000000</td>\n",
       "      <td>0</td>\n",
       "      <td>5</td>\n",
       "      <td>29.1250</td>\n",
       "      <td>0</td>\n",
       "      <td>1</td>\n",
       "      <td>0</td>\n",
       "    </tr>\n",
       "    <tr>\n",
       "      <th>886</th>\n",
       "      <td>0</td>\n",
       "      <td>2</td>\n",
       "      <td>27.000000</td>\n",
       "      <td>0</td>\n",
       "      <td>0</td>\n",
       "      <td>13.0000</td>\n",
       "      <td>1</td>\n",
       "      <td>0</td>\n",
       "      <td>1</td>\n",
       "    </tr>\n",
       "    <tr>\n",
       "      <th>887</th>\n",
       "      <td>1</td>\n",
       "      <td>1</td>\n",
       "      <td>19.000000</td>\n",
       "      <td>0</td>\n",
       "      <td>0</td>\n",
       "      <td>30.0000</td>\n",
       "      <td>0</td>\n",
       "      <td>0</td>\n",
       "      <td>1</td>\n",
       "    </tr>\n",
       "    <tr>\n",
       "      <th>888</th>\n",
       "      <td>0</td>\n",
       "      <td>3</td>\n",
       "      <td>29.699118</td>\n",
       "      <td>1</td>\n",
       "      <td>2</td>\n",
       "      <td>23.4500</td>\n",
       "      <td>0</td>\n",
       "      <td>0</td>\n",
       "      <td>1</td>\n",
       "    </tr>\n",
       "    <tr>\n",
       "      <th>889</th>\n",
       "      <td>1</td>\n",
       "      <td>1</td>\n",
       "      <td>26.000000</td>\n",
       "      <td>0</td>\n",
       "      <td>0</td>\n",
       "      <td>30.0000</td>\n",
       "      <td>1</td>\n",
       "      <td>0</td>\n",
       "      <td>0</td>\n",
       "    </tr>\n",
       "    <tr>\n",
       "      <th>890</th>\n",
       "      <td>0</td>\n",
       "      <td>3</td>\n",
       "      <td>32.000000</td>\n",
       "      <td>0</td>\n",
       "      <td>0</td>\n",
       "      <td>7.7500</td>\n",
       "      <td>1</td>\n",
       "      <td>1</td>\n",
       "      <td>0</td>\n",
       "    </tr>\n",
       "  </tbody>\n",
       "</table>\n",
       "</div>"
      ],
      "text/plain": [
       "     Survived  Pclass        Age  SibSp  Parch     Fare  Sex_male  Embarked_Q  \\\n",
       "881         0       3  33.000000      0      0   7.8958         1           0   \n",
       "882         0       3  22.000000      0      0  10.5167         0           0   \n",
       "883         0       2  28.000000      0      0  10.5000         1           0   \n",
       "884         0       3  25.000000      0      0   7.0500         1           0   \n",
       "885         0       3  39.000000      0      5  29.1250         0           1   \n",
       "886         0       2  27.000000      0      0  13.0000         1           0   \n",
       "887         1       1  19.000000      0      0  30.0000         0           0   \n",
       "888         0       3  29.699118      1      2  23.4500         0           0   \n",
       "889         1       1  26.000000      0      0  30.0000         1           0   \n",
       "890         0       3  32.000000      0      0   7.7500         1           1   \n",
       "\n",
       "     Embarked_S  \n",
       "881           1  \n",
       "882           1  \n",
       "883           1  \n",
       "884           1  \n",
       "885           0  \n",
       "886           1  \n",
       "887           1  \n",
       "888           1  \n",
       "889           0  \n",
       "890           0  "
      ]
     },
     "execution_count": 41,
     "metadata": {},
     "output_type": "execute_result"
    }
   ],
   "source": [
    "df=pickle.load(open(r'C:\\\\Users\\\\rakhi\\\\OneDrive\\\\Desktop\\\\EDA-Titanic Dataset\\\\models\\\\ExplorataryDataAnalysis.pkl','rb'))\n",
    "df.tail(10)"
   ]
  },
  {
   "cell_type": "code",
   "execution_count": null,
   "id": "565c9f1c",
   "metadata": {},
   "outputs": [],
   "source": []
  }
 ],
 "metadata": {
  "kernelspec": {
   "display_name": "Python 3 (ipykernel)",
   "language": "python",
   "name": "python3"
  },
  "language_info": {
   "codemirror_mode": {
    "name": "ipython",
    "version": 3
   },
   "file_extension": ".py",
   "mimetype": "text/x-python",
   "name": "python",
   "nbconvert_exporter": "python",
   "pygments_lexer": "ipython3",
   "version": "3.9.12"
  }
 },
 "nbformat": 4,
 "nbformat_minor": 5
}
